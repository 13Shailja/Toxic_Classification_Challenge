{
  "nbformat": 4,
  "nbformat_minor": 0,
  "metadata": {
    "colab": {
      "provenance": [],
      "machine_shape": "hm",
      "gpuType": "A100"
    },
    "kernelspec": {
      "name": "python3",
      "display_name": "Python 3"
    },
    "language_info": {
      "name": "python"
    }
  },
  "cells": [
    {
      "cell_type": "markdown",
      "source": [
        "# Toxic Comment Classification Challenge 1\n",
        "Design a classification system using the traditional NLP techniques - for instance - stop word removal, stemming... etc -  followed by a standard ML algorithm like Trees."
      ],
      "metadata": {
        "id": "VKY7tKePTRW1"
      }
    },
    {
      "cell_type": "markdown",
      "source": [
        "## Introduction\n",
        "\n",
        " The Toxic Comment Classification is a competition where participants are challenged to build a multi-headed model that can detect different types of toxicity in online comments. The dataset for the competition consists of over 1.6 million Wikipedia comments that have been labeled by human raters for toxic behavior. <br><br> The types of toxicity that can be detected include: <br>1. Toxic: This is a general category that includes comments that are rude, disrespectful, or otherwise likely to make someone leave a discussion.<br> 2. Severe_toxic: This category includes comments that are particularly harmful or hateful.<br> 3. Obscene: This category includes comments that are sexually explicit or offensive. <br> 4. Threat: This category includes comments that threaten or intimidate others. <br> 5. Insult: This category includes comments that are intended to put down or belittle others.<br> 6. Identity_hate: This category includes comments that are hateful or discriminatory towards a particular identity group.<br><br>The goal of the Challenge-1 is to build a traditional Machine Learning model that can accurately detect these different types of toxicity. <br>The dataset for the competition is downloaded from Kaggle - \"https://www.kaggle.com/c/jigsaw-toxic-comment-classification-challenge/data\" <br><br> For the purpose of this challenge, I have downloaded only <br>**train.csv**: This file contains the training set, which includes comments with their binary labels. The binary labels indicate whether a comment is toxic or not."
      ],
      "metadata": {
        "id": "EqEn8IPLTn8N"
      }
    },
    {
      "cell_type": "markdown",
      "source": [
        "Note: In this challenge-1, I have mainly focused on using RandomForestClassifier after finding hyperparamenters using GridSearchCV."
      ],
      "metadata": {
        "id": "H3Hv4CHIU0la"
      }
    },
    {
      "cell_type": "markdown",
      "source": [
        "### Importing the Libraries"
      ],
      "metadata": {
        "id": "tbybVdxbVX1l"
      }
    },
    {
      "cell_type": "code",
      "source": [
        "# Installing required libraries\n",
        "!pip install contractions"
      ],
      "metadata": {
        "colab": {
          "base_uri": "https://localhost:8080/"
        },
        "id": "Q6sO0EFOwbSp",
        "outputId": "be779d61-eeb0-4422-fba8-6d8d755560b3"
      },
      "execution_count": 3,
      "outputs": [
        {
          "output_type": "stream",
          "name": "stdout",
          "text": [
            "Looking in indexes: https://pypi.org/simple, https://us-python.pkg.dev/colab-wheels/public/simple/\n",
            "Collecting contractions\n",
            "  Downloading contractions-0.1.73-py2.py3-none-any.whl (8.7 kB)\n",
            "Collecting textsearch>=0.0.21 (from contractions)\n",
            "  Downloading textsearch-0.0.24-py2.py3-none-any.whl (7.6 kB)\n",
            "Collecting anyascii (from textsearch>=0.0.21->contractions)\n",
            "  Downloading anyascii-0.3.2-py3-none-any.whl (289 kB)\n",
            "\u001b[2K     \u001b[90m━━━━━━━━━━━━━━━━━━━━━━━━━━━━━━━━━━━━━━\u001b[0m \u001b[32m289.9/289.9 kB\u001b[0m \u001b[31m10.2 MB/s\u001b[0m eta \u001b[36m0:00:00\u001b[0m\n",
            "\u001b[?25hCollecting pyahocorasick (from textsearch>=0.0.21->contractions)\n",
            "  Downloading pyahocorasick-2.0.0-cp310-cp310-manylinux_2_5_x86_64.manylinux1_x86_64.manylinux_2_12_x86_64.manylinux2010_x86_64.whl (110 kB)\n",
            "\u001b[2K     \u001b[90m━━━━━━━━━━━━━━━━━━━━━━━━━━━━━━━━━━━━━━\u001b[0m \u001b[32m110.8/110.8 kB\u001b[0m \u001b[31m10.4 MB/s\u001b[0m eta \u001b[36m0:00:00\u001b[0m\n",
            "\u001b[?25hInstalling collected packages: pyahocorasick, anyascii, textsearch, contractions\n",
            "Successfully installed anyascii-0.3.2 contractions-0.1.73 pyahocorasick-2.0.0 textsearch-0.0.24\n"
          ]
        }
      ]
    },
    {
      "cell_type": "code",
      "source": [
        "# Importing necessary libraries\n",
        "import pandas as pd\n",
        "import numpy as np\n",
        "import seaborn as sns\n",
        "import matplotlib.pyplot as plt\n",
        "import re\n",
        "import string\n",
        "import nltk\n",
        "import contractions\n",
        "from nltk.corpus import stopwords\n",
        "from nltk.stem import PorterStemmer\n",
        "from nltk.stem import WordNetLemmatizer\n",
        "\n",
        "# Downloading NLTK resources\n",
        "nltk.download('stopwords')\n",
        "nltk.download('punkt')\n",
        "nltk.download('wordnet')\n",
        "\n",
        "# Import the sklearn libraries for data preprocessing and model training\n",
        "from sklearn.model_selection import train_test_split, GridSearchCV\n",
        "from sklearn.feature_extraction.text import CountVectorizer, TfidfVectorizer\n",
        "from sklearn.ensemble import RandomForestClassifier\n",
        "from sklearn.metrics import multilabel_confusion_matrix, accuracy_score, roc_auc_score, f1_score, roc_curve, auc, classification_report\n",
        "\n",
        "# Increasing recursion limit to handle large dataset\n",
        "import sys\n",
        "sys.setrecursionlimit(10000)"
      ],
      "metadata": {
        "colab": {
          "base_uri": "https://localhost:8080/"
        },
        "id": "BGLuRnd4-xX5",
        "outputId": "f41c8afe-31f2-4192-897b-f45f74f672f3"
      },
      "execution_count": 4,
      "outputs": [
        {
          "output_type": "stream",
          "name": "stderr",
          "text": [
            "[nltk_data] Downloading package stopwords to /root/nltk_data...\n",
            "[nltk_data]   Unzipping corpora/stopwords.zip.\n",
            "[nltk_data] Downloading package punkt to /root/nltk_data...\n",
            "[nltk_data]   Unzipping tokenizers/punkt.zip.\n",
            "[nltk_data] Downloading package wordnet to /root/nltk_data...\n"
          ]
        }
      ]
    },
    {
      "cell_type": "markdown",
      "source": [
        "### Loading the Data"
      ],
      "metadata": {
        "id": "jrDzelecVcFP"
      }
    },
    {
      "cell_type": "code",
      "source": [
        "# Mounting the Google Drive to access the dataset\n",
        "from google.colab import drive\n",
        "drive.mount('/content/drive/')"
      ],
      "metadata": {
        "colab": {
          "base_uri": "https://localhost:8080/"
        },
        "id": "Zt8mDzf9-3UK",
        "outputId": "a7ce03e8-5037-4d12-f9b7-cc82c0f1f754"
      },
      "execution_count": 5,
      "outputs": [
        {
          "output_type": "stream",
          "name": "stdout",
          "text": [
            "Mounted at /content/drive/\n"
          ]
        }
      ]
    },
    {
      "cell_type": "code",
      "source": [
        "# Reading the dataset\n",
        "data = pd.read_csv(\"/content/drive/My Drive/Colab Notebooks/Sikka.ai/train.csv\")"
      ],
      "metadata": {
        "id": "PsXyQgdF-8gd"
      },
      "execution_count": 6,
      "outputs": []
    },
    {
      "cell_type": "code",
      "source": [
        "# Displaying the first few records\n",
        "data.head()"
      ],
      "metadata": {
        "colab": {
          "base_uri": "https://localhost:8080/",
          "height": 206
        },
        "id": "lIGvfF_P9cKf",
        "outputId": "e2e5bb5b-44d6-4bdc-8140-23bd0c5c06b1"
      },
      "execution_count": 7,
      "outputs": [
        {
          "output_type": "execute_result",
          "data": {
            "text/plain": [
              "                 id                                       comment_text  toxic  \\\n",
              "0  0000997932d777bf  Explanation\\nWhy the edits made under my usern...      0   \n",
              "1  000103f0d9cfb60f  D'aww! He matches this background colour I'm s...      0   \n",
              "2  000113f07ec002fd  Hey man, I'm really not trying to edit war. It...      0   \n",
              "3  0001b41b1c6bb37e  \"\\nMore\\nI can't make any real suggestions on ...      0   \n",
              "4  0001d958c54c6e35  You, sir, are my hero. Any chance you remember...      0   \n",
              "\n",
              "   severe_toxic  obscene  threat  insult  identity_hate  \n",
              "0             0        0       0       0              0  \n",
              "1             0        0       0       0              0  \n",
              "2             0        0       0       0              0  \n",
              "3             0        0       0       0              0  \n",
              "4             0        0       0       0              0  "
            ],
            "text/html": [
              "\n",
              "  <div id=\"df-ddb5e17b-683c-4716-adc7-3975ae7af99c\">\n",
              "    <div class=\"colab-df-container\">\n",
              "      <div>\n",
              "<style scoped>\n",
              "    .dataframe tbody tr th:only-of-type {\n",
              "        vertical-align: middle;\n",
              "    }\n",
              "\n",
              "    .dataframe tbody tr th {\n",
              "        vertical-align: top;\n",
              "    }\n",
              "\n",
              "    .dataframe thead th {\n",
              "        text-align: right;\n",
              "    }\n",
              "</style>\n",
              "<table border=\"1\" class=\"dataframe\">\n",
              "  <thead>\n",
              "    <tr style=\"text-align: right;\">\n",
              "      <th></th>\n",
              "      <th>id</th>\n",
              "      <th>comment_text</th>\n",
              "      <th>toxic</th>\n",
              "      <th>severe_toxic</th>\n",
              "      <th>obscene</th>\n",
              "      <th>threat</th>\n",
              "      <th>insult</th>\n",
              "      <th>identity_hate</th>\n",
              "    </tr>\n",
              "  </thead>\n",
              "  <tbody>\n",
              "    <tr>\n",
              "      <th>0</th>\n",
              "      <td>0000997932d777bf</td>\n",
              "      <td>Explanation\\nWhy the edits made under my usern...</td>\n",
              "      <td>0</td>\n",
              "      <td>0</td>\n",
              "      <td>0</td>\n",
              "      <td>0</td>\n",
              "      <td>0</td>\n",
              "      <td>0</td>\n",
              "    </tr>\n",
              "    <tr>\n",
              "      <th>1</th>\n",
              "      <td>000103f0d9cfb60f</td>\n",
              "      <td>D'aww! He matches this background colour I'm s...</td>\n",
              "      <td>0</td>\n",
              "      <td>0</td>\n",
              "      <td>0</td>\n",
              "      <td>0</td>\n",
              "      <td>0</td>\n",
              "      <td>0</td>\n",
              "    </tr>\n",
              "    <tr>\n",
              "      <th>2</th>\n",
              "      <td>000113f07ec002fd</td>\n",
              "      <td>Hey man, I'm really not trying to edit war. It...</td>\n",
              "      <td>0</td>\n",
              "      <td>0</td>\n",
              "      <td>0</td>\n",
              "      <td>0</td>\n",
              "      <td>0</td>\n",
              "      <td>0</td>\n",
              "    </tr>\n",
              "    <tr>\n",
              "      <th>3</th>\n",
              "      <td>0001b41b1c6bb37e</td>\n",
              "      <td>\"\\nMore\\nI can't make any real suggestions on ...</td>\n",
              "      <td>0</td>\n",
              "      <td>0</td>\n",
              "      <td>0</td>\n",
              "      <td>0</td>\n",
              "      <td>0</td>\n",
              "      <td>0</td>\n",
              "    </tr>\n",
              "    <tr>\n",
              "      <th>4</th>\n",
              "      <td>0001d958c54c6e35</td>\n",
              "      <td>You, sir, are my hero. Any chance you remember...</td>\n",
              "      <td>0</td>\n",
              "      <td>0</td>\n",
              "      <td>0</td>\n",
              "      <td>0</td>\n",
              "      <td>0</td>\n",
              "      <td>0</td>\n",
              "    </tr>\n",
              "  </tbody>\n",
              "</table>\n",
              "</div>\n",
              "      <button class=\"colab-df-convert\" onclick=\"convertToInteractive('df-ddb5e17b-683c-4716-adc7-3975ae7af99c')\"\n",
              "              title=\"Convert this dataframe to an interactive table.\"\n",
              "              style=\"display:none;\">\n",
              "        \n",
              "  <svg xmlns=\"http://www.w3.org/2000/svg\" height=\"24px\"viewBox=\"0 0 24 24\"\n",
              "       width=\"24px\">\n",
              "    <path d=\"M0 0h24v24H0V0z\" fill=\"none\"/>\n",
              "    <path d=\"M18.56 5.44l.94 2.06.94-2.06 2.06-.94-2.06-.94-.94-2.06-.94 2.06-2.06.94zm-11 1L8.5 8.5l.94-2.06 2.06-.94-2.06-.94L8.5 2.5l-.94 2.06-2.06.94zm10 10l.94 2.06.94-2.06 2.06-.94-2.06-.94-.94-2.06-.94 2.06-2.06.94z\"/><path d=\"M17.41 7.96l-1.37-1.37c-.4-.4-.92-.59-1.43-.59-.52 0-1.04.2-1.43.59L10.3 9.45l-7.72 7.72c-.78.78-.78 2.05 0 2.83L4 21.41c.39.39.9.59 1.41.59.51 0 1.02-.2 1.41-.59l7.78-7.78 2.81-2.81c.8-.78.8-2.07 0-2.86zM5.41 20L4 18.59l7.72-7.72 1.47 1.35L5.41 20z\"/>\n",
              "  </svg>\n",
              "      </button>\n",
              "      \n",
              "  <style>\n",
              "    .colab-df-container {\n",
              "      display:flex;\n",
              "      flex-wrap:wrap;\n",
              "      gap: 12px;\n",
              "    }\n",
              "\n",
              "    .colab-df-convert {\n",
              "      background-color: #E8F0FE;\n",
              "      border: none;\n",
              "      border-radius: 50%;\n",
              "      cursor: pointer;\n",
              "      display: none;\n",
              "      fill: #1967D2;\n",
              "      height: 32px;\n",
              "      padding: 0 0 0 0;\n",
              "      width: 32px;\n",
              "    }\n",
              "\n",
              "    .colab-df-convert:hover {\n",
              "      background-color: #E2EBFA;\n",
              "      box-shadow: 0px 1px 2px rgba(60, 64, 67, 0.3), 0px 1px 3px 1px rgba(60, 64, 67, 0.15);\n",
              "      fill: #174EA6;\n",
              "    }\n",
              "\n",
              "    [theme=dark] .colab-df-convert {\n",
              "      background-color: #3B4455;\n",
              "      fill: #D2E3FC;\n",
              "    }\n",
              "\n",
              "    [theme=dark] .colab-df-convert:hover {\n",
              "      background-color: #434B5C;\n",
              "      box-shadow: 0px 1px 3px 1px rgba(0, 0, 0, 0.15);\n",
              "      filter: drop-shadow(0px 1px 2px rgba(0, 0, 0, 0.3));\n",
              "      fill: #FFFFFF;\n",
              "    }\n",
              "  </style>\n",
              "\n",
              "      <script>\n",
              "        const buttonEl =\n",
              "          document.querySelector('#df-ddb5e17b-683c-4716-adc7-3975ae7af99c button.colab-df-convert');\n",
              "        buttonEl.style.display =\n",
              "          google.colab.kernel.accessAllowed ? 'block' : 'none';\n",
              "\n",
              "        async function convertToInteractive(key) {\n",
              "          const element = document.querySelector('#df-ddb5e17b-683c-4716-adc7-3975ae7af99c');\n",
              "          const dataTable =\n",
              "            await google.colab.kernel.invokeFunction('convertToInteractive',\n",
              "                                                     [key], {});\n",
              "          if (!dataTable) return;\n",
              "\n",
              "          const docLinkHtml = 'Like what you see? Visit the ' +\n",
              "            '<a target=\"_blank\" href=https://colab.research.google.com/notebooks/data_table.ipynb>data table notebook</a>'\n",
              "            + ' to learn more about interactive tables.';\n",
              "          element.innerHTML = '';\n",
              "          dataTable['output_type'] = 'display_data';\n",
              "          await google.colab.output.renderOutput(dataTable, element);\n",
              "          const docLink = document.createElement('div');\n",
              "          docLink.innerHTML = docLinkHtml;\n",
              "          element.appendChild(docLink);\n",
              "        }\n",
              "      </script>\n",
              "    </div>\n",
              "  </div>\n",
              "  "
            ]
          },
          "metadata": {},
          "execution_count": 7
        }
      ]
    },
    {
      "cell_type": "markdown",
      "source": [
        "### Understanding the Data"
      ],
      "metadata": {
        "id": "SL9pqgM-VgIn"
      }
    },
    {
      "cell_type": "code",
      "source": [
        "# Checking the shape of the data\n",
        "data.shape"
      ],
      "metadata": {
        "colab": {
          "base_uri": "https://localhost:8080/"
        },
        "id": "iApCY-PU9d05",
        "outputId": "b6486a6e-5726-468c-d57f-78fded1c4bd6"
      },
      "execution_count": 8,
      "outputs": [
        {
          "output_type": "execute_result",
          "data": {
            "text/plain": [
              "(159571, 8)"
            ]
          },
          "metadata": {},
          "execution_count": 8
        }
      ]
    },
    {
      "cell_type": "code",
      "source": [
        "# Getting information about the dataset\n",
        "data.info()"
      ],
      "metadata": {
        "colab": {
          "base_uri": "https://localhost:8080/"
        },
        "id": "D4VBTvvNYhjT",
        "outputId": "e3659f08-fa02-4f97-9fb8-f5b477858f01"
      },
      "execution_count": 9,
      "outputs": [
        {
          "output_type": "stream",
          "name": "stdout",
          "text": [
            "<class 'pandas.core.frame.DataFrame'>\n",
            "RangeIndex: 159571 entries, 0 to 159570\n",
            "Data columns (total 8 columns):\n",
            " #   Column         Non-Null Count   Dtype \n",
            "---  ------         --------------   ----- \n",
            " 0   id             159571 non-null  object\n",
            " 1   comment_text   159571 non-null  object\n",
            " 2   toxic          159571 non-null  int64 \n",
            " 3   severe_toxic   159571 non-null  int64 \n",
            " 4   obscene        159571 non-null  int64 \n",
            " 5   threat         159571 non-null  int64 \n",
            " 6   insult         159571 non-null  int64 \n",
            " 7   identity_hate  159571 non-null  int64 \n",
            "dtypes: int64(6), object(2)\n",
            "memory usage: 9.7+ MB\n"
          ]
        }
      ]
    },
    {
      "cell_type": "code",
      "source": [
        "# Dropping the 'id' column as it is not useful for analysis\n",
        "data = data.drop(\"id\", axis=1)"
      ],
      "metadata": {
        "id": "SIuHVQRls7Sh"
      },
      "execution_count": 10,
      "outputs": []
    },
    {
      "cell_type": "code",
      "source": [
        "# Generating descriptive statistics for the data\n",
        "data.describe()"
      ],
      "metadata": {
        "colab": {
          "base_uri": "https://localhost:8080/",
          "height": 300
        },
        "id": "VU9vnUMqYj2g",
        "outputId": "9afb8ffc-baf2-41d5-fb73-7f80df872e42"
      },
      "execution_count": 11,
      "outputs": [
        {
          "output_type": "execute_result",
          "data": {
            "text/plain": [
              "               toxic   severe_toxic        obscene         threat  \\\n",
              "count  159571.000000  159571.000000  159571.000000  159571.000000   \n",
              "mean        0.095844       0.009996       0.052948       0.002996   \n",
              "std         0.294379       0.099477       0.223931       0.054650   \n",
              "min         0.000000       0.000000       0.000000       0.000000   \n",
              "25%         0.000000       0.000000       0.000000       0.000000   \n",
              "50%         0.000000       0.000000       0.000000       0.000000   \n",
              "75%         0.000000       0.000000       0.000000       0.000000   \n",
              "max         1.000000       1.000000       1.000000       1.000000   \n",
              "\n",
              "              insult  identity_hate  \n",
              "count  159571.000000  159571.000000  \n",
              "mean        0.049364       0.008805  \n",
              "std         0.216627       0.093420  \n",
              "min         0.000000       0.000000  \n",
              "25%         0.000000       0.000000  \n",
              "50%         0.000000       0.000000  \n",
              "75%         0.000000       0.000000  \n",
              "max         1.000000       1.000000  "
            ],
            "text/html": [
              "\n",
              "  <div id=\"df-cbd0a12f-e424-4374-80e0-8c050d01ff74\">\n",
              "    <div class=\"colab-df-container\">\n",
              "      <div>\n",
              "<style scoped>\n",
              "    .dataframe tbody tr th:only-of-type {\n",
              "        vertical-align: middle;\n",
              "    }\n",
              "\n",
              "    .dataframe tbody tr th {\n",
              "        vertical-align: top;\n",
              "    }\n",
              "\n",
              "    .dataframe thead th {\n",
              "        text-align: right;\n",
              "    }\n",
              "</style>\n",
              "<table border=\"1\" class=\"dataframe\">\n",
              "  <thead>\n",
              "    <tr style=\"text-align: right;\">\n",
              "      <th></th>\n",
              "      <th>toxic</th>\n",
              "      <th>severe_toxic</th>\n",
              "      <th>obscene</th>\n",
              "      <th>threat</th>\n",
              "      <th>insult</th>\n",
              "      <th>identity_hate</th>\n",
              "    </tr>\n",
              "  </thead>\n",
              "  <tbody>\n",
              "    <tr>\n",
              "      <th>count</th>\n",
              "      <td>159571.000000</td>\n",
              "      <td>159571.000000</td>\n",
              "      <td>159571.000000</td>\n",
              "      <td>159571.000000</td>\n",
              "      <td>159571.000000</td>\n",
              "      <td>159571.000000</td>\n",
              "    </tr>\n",
              "    <tr>\n",
              "      <th>mean</th>\n",
              "      <td>0.095844</td>\n",
              "      <td>0.009996</td>\n",
              "      <td>0.052948</td>\n",
              "      <td>0.002996</td>\n",
              "      <td>0.049364</td>\n",
              "      <td>0.008805</td>\n",
              "    </tr>\n",
              "    <tr>\n",
              "      <th>std</th>\n",
              "      <td>0.294379</td>\n",
              "      <td>0.099477</td>\n",
              "      <td>0.223931</td>\n",
              "      <td>0.054650</td>\n",
              "      <td>0.216627</td>\n",
              "      <td>0.093420</td>\n",
              "    </tr>\n",
              "    <tr>\n",
              "      <th>min</th>\n",
              "      <td>0.000000</td>\n",
              "      <td>0.000000</td>\n",
              "      <td>0.000000</td>\n",
              "      <td>0.000000</td>\n",
              "      <td>0.000000</td>\n",
              "      <td>0.000000</td>\n",
              "    </tr>\n",
              "    <tr>\n",
              "      <th>25%</th>\n",
              "      <td>0.000000</td>\n",
              "      <td>0.000000</td>\n",
              "      <td>0.000000</td>\n",
              "      <td>0.000000</td>\n",
              "      <td>0.000000</td>\n",
              "      <td>0.000000</td>\n",
              "    </tr>\n",
              "    <tr>\n",
              "      <th>50%</th>\n",
              "      <td>0.000000</td>\n",
              "      <td>0.000000</td>\n",
              "      <td>0.000000</td>\n",
              "      <td>0.000000</td>\n",
              "      <td>0.000000</td>\n",
              "      <td>0.000000</td>\n",
              "    </tr>\n",
              "    <tr>\n",
              "      <th>75%</th>\n",
              "      <td>0.000000</td>\n",
              "      <td>0.000000</td>\n",
              "      <td>0.000000</td>\n",
              "      <td>0.000000</td>\n",
              "      <td>0.000000</td>\n",
              "      <td>0.000000</td>\n",
              "    </tr>\n",
              "    <tr>\n",
              "      <th>max</th>\n",
              "      <td>1.000000</td>\n",
              "      <td>1.000000</td>\n",
              "      <td>1.000000</td>\n",
              "      <td>1.000000</td>\n",
              "      <td>1.000000</td>\n",
              "      <td>1.000000</td>\n",
              "    </tr>\n",
              "  </tbody>\n",
              "</table>\n",
              "</div>\n",
              "      <button class=\"colab-df-convert\" onclick=\"convertToInteractive('df-cbd0a12f-e424-4374-80e0-8c050d01ff74')\"\n",
              "              title=\"Convert this dataframe to an interactive table.\"\n",
              "              style=\"display:none;\">\n",
              "        \n",
              "  <svg xmlns=\"http://www.w3.org/2000/svg\" height=\"24px\"viewBox=\"0 0 24 24\"\n",
              "       width=\"24px\">\n",
              "    <path d=\"M0 0h24v24H0V0z\" fill=\"none\"/>\n",
              "    <path d=\"M18.56 5.44l.94 2.06.94-2.06 2.06-.94-2.06-.94-.94-2.06-.94 2.06-2.06.94zm-11 1L8.5 8.5l.94-2.06 2.06-.94-2.06-.94L8.5 2.5l-.94 2.06-2.06.94zm10 10l.94 2.06.94-2.06 2.06-.94-2.06-.94-.94-2.06-.94 2.06-2.06.94z\"/><path d=\"M17.41 7.96l-1.37-1.37c-.4-.4-.92-.59-1.43-.59-.52 0-1.04.2-1.43.59L10.3 9.45l-7.72 7.72c-.78.78-.78 2.05 0 2.83L4 21.41c.39.39.9.59 1.41.59.51 0 1.02-.2 1.41-.59l7.78-7.78 2.81-2.81c.8-.78.8-2.07 0-2.86zM5.41 20L4 18.59l7.72-7.72 1.47 1.35L5.41 20z\"/>\n",
              "  </svg>\n",
              "      </button>\n",
              "      \n",
              "  <style>\n",
              "    .colab-df-container {\n",
              "      display:flex;\n",
              "      flex-wrap:wrap;\n",
              "      gap: 12px;\n",
              "    }\n",
              "\n",
              "    .colab-df-convert {\n",
              "      background-color: #E8F0FE;\n",
              "      border: none;\n",
              "      border-radius: 50%;\n",
              "      cursor: pointer;\n",
              "      display: none;\n",
              "      fill: #1967D2;\n",
              "      height: 32px;\n",
              "      padding: 0 0 0 0;\n",
              "      width: 32px;\n",
              "    }\n",
              "\n",
              "    .colab-df-convert:hover {\n",
              "      background-color: #E2EBFA;\n",
              "      box-shadow: 0px 1px 2px rgba(60, 64, 67, 0.3), 0px 1px 3px 1px rgba(60, 64, 67, 0.15);\n",
              "      fill: #174EA6;\n",
              "    }\n",
              "\n",
              "    [theme=dark] .colab-df-convert {\n",
              "      background-color: #3B4455;\n",
              "      fill: #D2E3FC;\n",
              "    }\n",
              "\n",
              "    [theme=dark] .colab-df-convert:hover {\n",
              "      background-color: #434B5C;\n",
              "      box-shadow: 0px 1px 3px 1px rgba(0, 0, 0, 0.15);\n",
              "      filter: drop-shadow(0px 1px 2px rgba(0, 0, 0, 0.3));\n",
              "      fill: #FFFFFF;\n",
              "    }\n",
              "  </style>\n",
              "\n",
              "      <script>\n",
              "        const buttonEl =\n",
              "          document.querySelector('#df-cbd0a12f-e424-4374-80e0-8c050d01ff74 button.colab-df-convert');\n",
              "        buttonEl.style.display =\n",
              "          google.colab.kernel.accessAllowed ? 'block' : 'none';\n",
              "\n",
              "        async function convertToInteractive(key) {\n",
              "          const element = document.querySelector('#df-cbd0a12f-e424-4374-80e0-8c050d01ff74');\n",
              "          const dataTable =\n",
              "            await google.colab.kernel.invokeFunction('convertToInteractive',\n",
              "                                                     [key], {});\n",
              "          if (!dataTable) return;\n",
              "\n",
              "          const docLinkHtml = 'Like what you see? Visit the ' +\n",
              "            '<a target=\"_blank\" href=https://colab.research.google.com/notebooks/data_table.ipynb>data table notebook</a>'\n",
              "            + ' to learn more about interactive tables.';\n",
              "          element.innerHTML = '';\n",
              "          dataTable['output_type'] = 'display_data';\n",
              "          await google.colab.output.renderOutput(dataTable, element);\n",
              "          const docLink = document.createElement('div');\n",
              "          docLink.innerHTML = docLinkHtml;\n",
              "          element.appendChild(docLink);\n",
              "        }\n",
              "      </script>\n",
              "    </div>\n",
              "  </div>\n",
              "  "
            ]
          },
          "metadata": {},
          "execution_count": 11
        }
      ]
    },
    {
      "cell_type": "code",
      "source": [
        "# Checking for missing values in the comment_text column\n",
        "print(\"Checking for missing values in the comment_text column:\")\n",
        "print(data['comment_text'].isnull().sum())"
      ],
      "metadata": {
        "id": "mZXmvxNGJAFp",
        "colab": {
          "base_uri": "https://localhost:8080/"
        },
        "outputId": "c220f1a7-2d14-4800-b005-d12ca237afcf"
      },
      "execution_count": 12,
      "outputs": [
        {
          "output_type": "stream",
          "name": "stdout",
          "text": [
            "Checking for missing values in the comment_text column:\n",
            "0\n"
          ]
        }
      ]
    },
    {
      "cell_type": "code",
      "source": [
        "# Defining the label columns\n",
        "label_cols = ['toxic', 'severe_toxic', 'obscene', 'threat', 'insult', 'identity_hate']"
      ],
      "metadata": {
        "id": "oBq7jUDIAg7o"
      },
      "execution_count": 13,
      "outputs": []
    },
    {
      "cell_type": "code",
      "source": [
        "# Visualizing the proportion of each category in the train dataset\n",
        "plt.figure(figsize=(8,4))\n",
        "sns.barplot(100*data)\n",
        "plt.title(\"Proportion of each category in the train dataset\")\n",
        "plt.ylabel(\"Proportion (%)\")\n",
        "plt.xlabel(\"Toxicity Category\")\n",
        "plt.show()"
      ],
      "metadata": {
        "colab": {
          "base_uri": "https://localhost:8080/",
          "height": 410
        },
        "id": "iEaoQR4iLHqj",
        "outputId": "d2db8df4-bfc7-448b-935c-cb6cf1914c01"
      },
      "execution_count": 14,
      "outputs": [
        {
          "output_type": "display_data",
          "data": {
            "text/plain": [
              "<Figure size 800x400 with 1 Axes>"
            ],
            "image/png": "[encoded data removed]"
          },
          "metadata": {}
        }
      ]
    },
    {
      "cell_type": "markdown",
      "source": [
        "### Cleaning the Data"
      ],
      "metadata": {
        "id": "xPziGs9MVly_"
      }
    },
    {
      "cell_type": "code",
      "source": [
        "# Marking comments without any toxic category as \"clean\"\n",
        "rowsums = data[label_cols].sum(axis=1)\n",
        "data['clean'] = (rowsums == 0)"
      ],
      "metadata": {
        "id": "dEGcaSX3ppJD"
      },
      "execution_count": 15,
      "outputs": []
    },
    {
      "cell_type": "code",
      "source": [
        "# Counting the number of clean entries\n",
        "num_clean_comments = data['clean'].sum()\n",
        "\n",
        "print(\"Total comments =\", len(data))\n",
        "print(\"Total clean comments =\", num_clean_comments)"
      ],
      "metadata": {
        "colab": {
          "base_uri": "https://localhost:8080/"
        },
        "id": "Y4f-PQ5WBJJq",
        "outputId": "1402d3b5-0f25-4326-fdff-8ba7a7d716c9"
      },
      "execution_count": 16,
      "outputs": [
        {
          "output_type": "stream",
          "name": "stdout",
          "text": [
            "Total comments = 159571\n",
            "Total clean comments = 143346\n"
          ]
        }
      ]
    },
    {
      "cell_type": "code",
      "source": [
        "# Visualizing the proportion of each category in the dataset along side the proportion of clean data\n",
        "plt.figure(figsize=(8,4))\n",
        "sns.barplot(100*data)\n",
        "plt.title(\"Proportion of each category in the dataset\")\n",
        "plt.ylabel(\"Proportion (%)\")\n",
        "plt.xlabel(\"Toxicity Category\")\n",
        "plt.show()"
      ],
      "metadata": {
        "colab": {
          "base_uri": "https://localhost:8080/",
          "height": 410
        },
        "id": "_EX2y_KprUlj",
        "outputId": "74a26ce2-4889-417b-a8fc-5a7c3a1f6afb"
      },
      "execution_count": 17,
      "outputs": [
        {
          "output_type": "display_data",
          "data": {
            "text/plain": [
              "<Figure size 800x400 with 1 Axes>"
            ],
            "image/png": "[encoded data removed]"
          },
          "metadata": {}
        }
      ]
    },
    {
      "cell_type": "code",
      "source": [
        "# Approximately 90% of the data in the dataset is clean and does not come under the category of toxicity."
      ],
      "metadata": {
        "id": "5AUuAB7-r7zX"
      },
      "execution_count": 18,
      "outputs": []
    },
    {
      "cell_type": "code",
      "source": [
        "# Counting the number of clean and toxic comments\n",
        "clean_counts = data['clean'].value_counts()\n",
        "clean_counts"
      ],
      "metadata": {
        "colab": {
          "base_uri": "https://localhost:8080/"
        },
        "id": "PVHqW-5VBfm4",
        "outputId": "c261b566-acf5-44ce-d1db-63bcf04bad7c"
      },
      "execution_count": 19,
      "outputs": [
        {
          "output_type": "execute_result",
          "data": {
            "text/plain": [
              "True     143346\n",
              "False     16225\n",
              "Name: clean, dtype: int64"
            ]
          },
          "metadata": {},
          "execution_count": 19
        }
      ]
    },
    {
      "cell_type": "code",
      "source": [
        "# Dropping excess clean records to balance the dataset\n",
        "true_count = clean_counts[True]\n",
        "false_count = clean_counts[False]\n",
        "\n",
        "# Dropping the excess true values to balance the counts\n",
        "excess_true_count = true_count - false_count\n",
        "indices_to_drop = data[data['clean']].sample(excess_true_count).index\n",
        "data = data.drop(indices_to_drop)\n",
        "\n",
        "# Verifying the balanced counts\n",
        "balanced_true_count = data['clean'].sum()\n",
        "balanced_false_count = len(data) - balanced_true_count\n",
        "\n",
        "print(\"Number of True values:\", balanced_true_count)\n",
        "print(\"Number of False values:\", balanced_false_count)"
      ],
      "metadata": {
        "colab": {
          "base_uri": "https://localhost:8080/"
        },
        "id": "kYg5Si8-kZls",
        "outputId": "caab9fc1-fe0a-40f8-a49b-f77d2cd97345"
      },
      "execution_count": 20,
      "outputs": [
        {
          "output_type": "stream",
          "name": "stdout",
          "text": [
            "Number of True values: 16225\n",
            "Number of False values: 16225\n"
          ]
        }
      ]
    },
    {
      "cell_type": "code",
      "source": [
        "# Count the number of true and false values\n",
        "true_count = data['clean'].sum()\n",
        "false_count = len(data) - true_count\n",
        "\n",
        "print(true_count, false_count)\n",
        "\n",
        "# Drop the excess true values to balance the counts\n",
        "excess_true_count = true_count - false_count\n",
        "indices_to_drop = data[data['clean']].sample(excess_true_count).index\n",
        "data = data.drop(indices_to_drop)\n",
        "\n",
        "# Verify the balanced counts\n",
        "balanced_true_count = data['clean'].sum()\n",
        "balanced_false_count = len(data) - balanced_true_count\n",
        "print(\"Number of True values:\", balanced_true_count)\n",
        "print(\"Number of False values:\", balanced_false_count)"
      ],
      "metadata": {
        "colab": {
          "base_uri": "https://localhost:8080/"
        },
        "id": "4Zy0vE48kYda",
        "outputId": "bb566340-c8ac-4f83-ba35-9ac8105a3d55"
      },
      "execution_count": 21,
      "outputs": [
        {
          "output_type": "stream",
          "name": "stdout",
          "text": [
            "16225 16225\n",
            "Number of True values: 16225\n",
            "Number of False values: 16225\n"
          ]
        }
      ]
    },
    {
      "cell_type": "code",
      "source": [
        "# Checking the shape of the data we will be working with\n",
        "data.shape"
      ],
      "metadata": {
        "colab": {
          "base_uri": "https://localhost:8080/"
        },
        "id": "lbuAKhwSk7s7",
        "outputId": "5c0cb51b-25dd-4d45-abb7-340f5fef9ac6"
      },
      "execution_count": 22,
      "outputs": [
        {
          "output_type": "execute_result",
          "data": {
            "text/plain": [
              "(32450, 8)"
            ]
          },
          "metadata": {},
          "execution_count": 22
        }
      ]
    },
    {
      "cell_type": "code",
      "source": [
        "# Visualizing the proportion of each category in the dataset along side the proportion of clean data after dropping excess clean records\n",
        "plt.figure(figsize=(8,4))\n",
        "sns.barplot(100*data)\n",
        "plt.title(\"Proportion of each category in the dataset\")\n",
        "plt.ylabel(\"Proportion (%)\")\n",
        "plt.xlabel(\"Toxicity Category\")\n",
        "plt.show()"
      ],
      "metadata": {
        "colab": {
          "base_uri": "https://localhost:8080/",
          "height": 410
        },
        "id": "jmSkF2bOlBbk",
        "outputId": "72839e27-7c94-4a5f-9359-289904d6a11b"
      },
      "execution_count": 23,
      "outputs": [
        {
          "output_type": "display_data",
          "data": {
            "text/plain": [
              "<Figure size 800x400 with 1 Axes>"
            ],
            "image/png": "[encoded data removed]"
          },
          "metadata": {}
        }
      ]
    },
    {
      "cell_type": "code",
      "source": [
        "# Generating the number of records for each toxic category\n",
        "values = list(data[label_cols].sum())\n",
        "values"
      ],
      "metadata": {
        "colab": {
          "base_uri": "https://localhost:8080/"
        },
        "id": "_9Y1oHMmKKZS",
        "outputId": "f88073e0-8552-4260-cdea-88ffb7f91c31"
      },
      "execution_count": 24,
      "outputs": [
        {
          "output_type": "execute_result",
          "data": {
            "text/plain": [
              "[15294, 1595, 8449, 478, 7877, 1405]"
            ]
          },
          "metadata": {},
          "execution_count": 24
        }
      ]
    },
    {
      "cell_type": "markdown",
      "source": [
        "### Pre-processing the Text Data"
      ],
      "metadata": {
        "id": "Jy5KsgRYVqZz"
      }
    },
    {
      "cell_type": "markdown",
      "source": [
        "The below function called text_pre_processing performs text preprocessing operations on a given input comment. The function aims to clean and transform the text data to make it suitable for further analysis or natural language processing tasks. <br>The various steps of text preprocessing performed in the code block include:\n",
        "\n",
        "* Converting the text to lowercase and resolving contractions using the contractions library.\n",
        "* Replacing multiple newline characters with a single space and removing excess blank spaces using regular expressions.\n",
        "* Removing punctuation marks from the text.\n",
        "* Retaining only English letters and spaces while discarding other characters.\n",
        "* Removing stopwords (commonly occurring words with little semantic meaning) using the stopwords module from the NLTK library.\n",
        "<br><br>The processed comment is then returned as the output of the function.\n",
        "\n",
        "These preprocessing steps help in cleaning and standardizing the text data, allowing for more accurate analysis, feature extraction, or modeling in natural language processing tasks.\n"
      ],
      "metadata": {
        "id": "9ogILYmz75Oa"
      }
    },
    {
      "cell_type": "code",
      "source": [
        "# Function to pre-process the text\n",
        "def text_pre_processing(comment):\n",
        "\n",
        "  # Converting the data to lower case and resolving the contractions\n",
        "  comment_lc = comment.lower()\n",
        "  comment_lc = contractions.fix(comment_lc)\n",
        "  # return comment_lc\n",
        "\n",
        "  # Replacing multiple '\\n' with a blank space and removing excess blank spaces\n",
        "  pattern = '\\s+'\n",
        "  comment_lc = comment_lc.replace('\\n', ' ')\n",
        "  comment_lc = re.sub(pattern, ' ', comment_lc)\n",
        "  # return comment_lc\n",
        "\n",
        "  # Removing punctuations\n",
        "  comment_lc_wo_punct = [x for x in comment_lc if x not in string.punctuation]\n",
        "  comment_lc_wo_punct = ''.join(comment_lc_wo_punct)\n",
        "  # return comment_lc_wo_punct\n",
        "\n",
        "  # Keeping only English letters\n",
        "  comment_wo_punct_only_words = [x for x in comment_lc_wo_punct if x.isalpha() or x == \" \"]\n",
        "  comment_wo_punct_only_words = ''.join(comment_wo_punct_only_words)\n",
        "  # return comment_wo_punct_only_words\n",
        "\n",
        "  # Removing stopwords\n",
        "  comment_wo_punct_only_words_lc = comment_wo_punct_only_words.split(\" \")\n",
        "  comment_wo_punct_only_words_lc_wo_sw = [x for x in comment_wo_punct_only_words_lc if x not in stopwords.words('english')]\n",
        "  comment_wo_punct_only_words_lc_wo_sw = ' '.join(comment_wo_punct_only_words_lc_wo_sw)\n",
        "\n",
        "  return comment_wo_punct_only_words_lc_wo_sw"
      ],
      "metadata": {
        "id": "eEFEDXuwIvb8"
      },
      "execution_count": 25,
      "outputs": []
    },
    {
      "cell_type": "markdown",
      "source": [
        "### Stemming\n",
        "\"Stemming is the process of reducing inflection in words to their root forms such as mapping a group of words to the same stem even if the stem itself is not a valid word in the Language.\"\n",
        "\n",
        "Stem (root) is the part of the word to which you add inflectional (changing/deriving) affixes such as (-ed,-ize, -s,-de,mis). <br>So stemming a word or sentence may result in words that are not actual words.<br> Stems are created by removing the suffixes or prefixes used with a word.\n",
        "\n",
        "In stemming, a computer algorithm often cuts off the ending or beginning of the word being analyzed.<br> The cut thus takes out prefixes and suffixes, which can lead to errors. Let’s take the words “studies” as an example.<br> A stemming algorithm would drop the suffix “es,” thus arriving at the root word “studi,” which we all know is not right. There’s no such word."
      ],
      "metadata": {
        "id": "-f2_y8JhWRMY"
      }
    },
    {
      "cell_type": "markdown",
      "source": [
        "### Lemmatization\n",
        "Lemmatization, reduces the inflected words properly ensuring that the root word belongs to the language.<br> In Lemmatization root word is called Lemma.<br> A lemma (plural lemmas or lemmata) is the canonical form, dictionary form, or citation form of a set of words.\n",
        "\n",
        "For example, runs, running, ran are all forms of the word run, therefore run is the lemma of all these words.<br> Because lemmatization returns an actual word of the language, it is used where it is necessary to get valid words.\n",
        "\n",
        "Lemmatization, lets a word like “studies” undergo a morphological analysis based on a dictionary that the algorithm can consult to produce the correct root word.<br> As such, a lemmatization-capable machine would know that “studies” is the singular verb form of the word “study” in the present tense."
      ],
      "metadata": {
        "id": "FhQz44uvWNnx"
      }
    },
    {
      "cell_type": "markdown",
      "source": [
        "<div>\n",
        "<img src = 'https://miro.medium.com/max/1400/1*ES5bt7IoInIq2YioQp2zcQ.png' width=500>\n",
        "</div>\n",
        "\n",
        "[Source](https://medium.com/geekculture/introduction-to-stemming-and-lemmatization-nlp-3b7617d84e65)"
      ],
      "metadata": {
        "id": "ywtvh_v6WUxd"
      }
    },
    {
      "cell_type": "code",
      "source": [
        "# Function to process the comments using Stemming and Lemmatizing\n",
        "def stemming_and_lemmatizing(comment):\n",
        "\n",
        "  # Stemming\n",
        "  stemmer = PorterStemmer()\n",
        "  # Function to perform stemming on a given text\n",
        "  processed_stemming_comment = ([stemmer.stem(word) for word in nltk.word_tokenize(comment)])\n",
        "  processed_stemming_comment = ' '.join(processed_stemming_comment)\n",
        "\n",
        "  # Lemmatization\n",
        "  # Create an instance of the WordNetLemmatizer\n",
        "  lemmatizer = WordNetLemmatizer()\n",
        "  lemmatized_words = ([lemmatizer.lemmatize(word) for word in nltk.word_tokenize(comment)])\n",
        "  lemmatized_words = ' '.join(lemmatized_words)\n",
        "\n",
        "  return processed_stemming_comment, lemmatized_words"
      ],
      "metadata": {
        "id": "mLveMmSwY8LT"
      },
      "execution_count": 26,
      "outputs": []
    },
    {
      "cell_type": "code",
      "source": [
        "# Testing transformation on the first 25 records\n",
        "transformation_check = data[['comment_text']][0:25].copy()\n",
        "\n",
        "transformation_check['preprocessed_comment'] = transformation_check['comment_text'].apply(text_pre_processing)\n",
        "transformation_check['processed_stemming_comment'], transformation_check['lemmatized_words'] = zip(*transformation_check['preprocessed_comment'].apply(stemming_and_lemmatizing))\n",
        "transformation_check.head(10)"
      ],
      "metadata": {
        "colab": {
          "base_uri": "https://localhost:8080/",
          "height": 362
        },
        "id": "GveGDnC6pqxG",
        "outputId": "d85f3992-1bf7-48d5-e59d-004187363515"
      },
      "execution_count": 27,
      "outputs": [
        {
          "output_type": "execute_result",
          "data": {
            "text/plain": [
              "                                         comment_text  \\\n",
              "6        COCKSUCKER BEFORE YOU PISS AROUND ON MY WORK   \n",
              "12  Hey... what is it..\\n@ | talk .\\nWhat is it......   \n",
              "16  Bye! \\n\\nDon't look, come or think of comming ...   \n",
              "33  I was able to post the above list so quickly b...   \n",
              "42  You are gay or antisemmitian? \\n\\nArchangel WH...   \n",
              "43           FUCK YOUR FILTHY MOTHER IN THE ASS, DRY!   \n",
              "44  I'm Sorry \\n\\nI'm sorry I screwed around with ...   \n",
              "51  GET FUCKED UP. GET FUCKEEED UP.  GOT A DRINK T...   \n",
              "55  Stupid peace of shit stop deleting my stuff as...   \n",
              "56  =Tony Sidaway is obviously a fistfuckee. He lo...   \n",
              "\n",
              "                                 preprocessed_comment  \\\n",
              "6                         cocksucker piss around work   \n",
              "12  hey   talk  exclusive group wp talibanswho goo...   \n",
              "16            bye look come think comming back tosser   \n",
              "33  able post list quickly already text file hard ...   \n",
              "42  gay antisemmitian archangel white tiger meow g...   \n",
              "43                         fuck filthy mother ass dry   \n",
              "44  sorry sorry screwed around someone talk page b...   \n",
              "51  get fucked get fuckeeed got drink cannot put g...   \n",
              "55  stupid peace shit stop deleting stuff asshole ...   \n",
              "56    tony sidaway obviously fistfuckee loves arm ass   \n",
              "\n",
              "                           processed_stemming_comment  \\\n",
              "6                           cocksuck piss around work   \n",
              "12  hey talk exclus group wp talibanswho good dest...   \n",
              "16                bye look come think com back tosser   \n",
              "33  abl post list quickli alreadi text file hard d...   \n",
              "42  gay antisemmitian archangel white tiger meow g...   \n",
              "43                         fuck filthi mother ass dri   \n",
              "44  sorri sorri screw around someon talk page bad ...   \n",
              "51  get fuck get fuckee got drink can not put get ...   \n",
              "55  stupid peac shit stop delet stuff asshol go di...   \n",
              "56        toni sidaway obvious fistfucke love arm ass   \n",
              "\n",
              "                                     lemmatized_words  \n",
              "6                         cocksucker piss around work  \n",
              "12  hey talk exclusive group wp talibanswho good d...  \n",
              "16            bye look come think comming back tosser  \n",
              "33  able post list quickly already text file hard ...  \n",
              "42  gay antisemmitian archangel white tiger meow g...  \n",
              "43                          fuck filthy mother as dry  \n",
              "44  sorry sorry screwed around someone talk page b...  \n",
              "51  get fucked get fuckeeed got drink can not put ...  \n",
              "55  stupid peace shit stop deleting stuff asshole ...  \n",
              "56      tony sidaway obviously fistfuckee love arm as  "
            ],
            "text/html": [
              "\n",
              "  <div id=\"df-4afc3836-40a4-42a6-9572-4e08f9dfae4f\">\n",
              "    <div class=\"colab-df-container\">\n",
              "      <div>\n",
              "<style scoped>\n",
              "    .dataframe tbody tr th:only-of-type {\n",
              "        vertical-align: middle;\n",
              "    }\n",
              "\n",
              "    .dataframe tbody tr th {\n",
              "        vertical-align: top;\n",
              "    }\n",
              "\n",
              "    .dataframe thead th {\n",
              "        text-align: right;\n",
              "    }\n",
              "</style>\n",
              "<table border=\"1\" class=\"dataframe\">\n",
              "  <thead>\n",
              "    <tr style=\"text-align: right;\">\n",
              "      <th></th>\n",
              "      <th>comment_text</th>\n",
              "      <th>preprocessed_comment</th>\n",
              "      <th>processed_stemming_comment</th>\n",
              "      <th>lemmatized_words</th>\n",
              "    </tr>\n",
              "  </thead>\n",
              "  <tbody>\n",
              "    <tr>\n",
              "      <th>6</th>\n",
              "      <td>COCKSUCKER BEFORE YOU PISS AROUND ON MY WORK</td>\n",
              "      <td>cocksucker piss around work</td>\n",
              "      <td>cocksuck piss around work</td>\n",
              "      <td>cocksucker piss around work</td>\n",
              "    </tr>\n",
              "    <tr>\n",
              "      <th>12</th>\n",
              "      <td>Hey... what is it..\\n@ | talk .\\nWhat is it......</td>\n",
              "      <td>hey   talk  exclusive group wp talibanswho goo...</td>\n",
              "      <td>hey talk exclus group wp talibanswho good dest...</td>\n",
              "      <td>hey talk exclusive group wp talibanswho good d...</td>\n",
              "    </tr>\n",
              "    <tr>\n",
              "      <th>16</th>\n",
              "      <td>Bye! \\n\\nDon't look, come or think of comming ...</td>\n",
              "      <td>bye look come think comming back tosser</td>\n",
              "      <td>bye look come think com back tosser</td>\n",
              "      <td>bye look come think comming back tosser</td>\n",
              "    </tr>\n",
              "    <tr>\n",
              "      <th>33</th>\n",
              "      <td>I was able to post the above list so quickly b...</td>\n",
              "      <td>able post list quickly already text file hard ...</td>\n",
              "      <td>abl post list quickli alreadi text file hard d...</td>\n",
              "      <td>able post list quickly already text file hard ...</td>\n",
              "    </tr>\n",
              "    <tr>\n",
              "      <th>42</th>\n",
              "      <td>You are gay or antisemmitian? \\n\\nArchangel WH...</td>\n",
              "      <td>gay antisemmitian archangel white tiger meow g...</td>\n",
              "      <td>gay antisemmitian archangel white tiger meow g...</td>\n",
              "      <td>gay antisemmitian archangel white tiger meow g...</td>\n",
              "    </tr>\n",
              "    <tr>\n",
              "      <th>43</th>\n",
              "      <td>FUCK YOUR FILTHY MOTHER IN THE ASS, DRY!</td>\n",
              "      <td>fuck filthy mother ass dry</td>\n",
              "      <td>fuck filthi mother ass dri</td>\n",
              "      <td>fuck filthy mother as dry</td>\n",
              "    </tr>\n",
              "    <tr>\n",
              "      <th>44</th>\n",
              "      <td>I'm Sorry \\n\\nI'm sorry I screwed around with ...</td>\n",
              "      <td>sorry sorry screwed around someone talk page b...</td>\n",
              "      <td>sorri sorri screw around someon talk page bad ...</td>\n",
              "      <td>sorry sorry screwed around someone talk page b...</td>\n",
              "    </tr>\n",
              "    <tr>\n",
              "      <th>51</th>\n",
              "      <td>GET FUCKED UP. GET FUCKEEED UP.  GOT A DRINK T...</td>\n",
              "      <td>get fucked get fuckeeed got drink cannot put g...</td>\n",
              "      <td>get fuck get fuckee got drink can not put get ...</td>\n",
              "      <td>get fucked get fuckeeed got drink can not put ...</td>\n",
              "    </tr>\n",
              "    <tr>\n",
              "      <th>55</th>\n",
              "      <td>Stupid peace of shit stop deleting my stuff as...</td>\n",
              "      <td>stupid peace shit stop deleting stuff asshole ...</td>\n",
              "      <td>stupid peac shit stop delet stuff asshol go di...</td>\n",
              "      <td>stupid peace shit stop deleting stuff asshole ...</td>\n",
              "    </tr>\n",
              "    <tr>\n",
              "      <th>56</th>\n",
              "      <td>=Tony Sidaway is obviously a fistfuckee. He lo...</td>\n",
              "      <td>tony sidaway obviously fistfuckee loves arm ass</td>\n",
              "      <td>toni sidaway obvious fistfucke love arm ass</td>\n",
              "      <td>tony sidaway obviously fistfuckee love arm as</td>\n",
              "    </tr>\n",
              "  </tbody>\n",
              "</table>\n",
              "</div>\n",
              "      <button class=\"colab-df-convert\" onclick=\"convertToInteractive('df-4afc3836-40a4-42a6-9572-4e08f9dfae4f')\"\n",
              "              title=\"Convert this dataframe to an interactive table.\"\n",
              "              style=\"display:none;\">\n",
              "        \n",
              "  <svg xmlns=\"http://www.w3.org/2000/svg\" height=\"24px\"viewBox=\"0 0 24 24\"\n",
              "       width=\"24px\">\n",
              "    <path d=\"M0 0h24v24H0V0z\" fill=\"none\"/>\n",
              "    <path d=\"M18.56 5.44l.94 2.06.94-2.06 2.06-.94-2.06-.94-.94-2.06-.94 2.06-2.06.94zm-11 1L8.5 8.5l.94-2.06 2.06-.94-2.06-.94L8.5 2.5l-.94 2.06-2.06.94zm10 10l.94 2.06.94-2.06 2.06-.94-2.06-.94-.94-2.06-.94 2.06-2.06.94z\"/><path d=\"M17.41 7.96l-1.37-1.37c-.4-.4-.92-.59-1.43-.59-.52 0-1.04.2-1.43.59L10.3 9.45l-7.72 7.72c-.78.78-.78 2.05 0 2.83L4 21.41c.39.39.9.59 1.41.59.51 0 1.02-.2 1.41-.59l7.78-7.78 2.81-2.81c.8-.78.8-2.07 0-2.86zM5.41 20L4 18.59l7.72-7.72 1.47 1.35L5.41 20z\"/>\n",
              "  </svg>\n",
              "      </button>\n",
              "      \n",
              "  <style>\n",
              "    .colab-df-container {\n",
              "      display:flex;\n",
              "      flex-wrap:wrap;\n",
              "      gap: 12px;\n",
              "    }\n",
              "\n",
              "    .colab-df-convert {\n",
              "      background-color: #E8F0FE;\n",
              "      border: none;\n",
              "      border-radius: 50%;\n",
              "      cursor: pointer;\n",
              "      display: none;\n",
              "      fill: #1967D2;\n",
              "      height: 32px;\n",
              "      padding: 0 0 0 0;\n",
              "      width: 32px;\n",
              "    }\n",
              "\n",
              "    .colab-df-convert:hover {\n",
              "      background-color: #E2EBFA;\n",
              "      box-shadow: 0px 1px 2px rgba(60, 64, 67, 0.3), 0px 1px 3px 1px rgba(60, 64, 67, 0.15);\n",
              "      fill: #174EA6;\n",
              "    }\n",
              "\n",
              "    [theme=dark] .colab-df-convert {\n",
              "      background-color: #3B4455;\n",
              "      fill: #D2E3FC;\n",
              "    }\n",
              "\n",
              "    [theme=dark] .colab-df-convert:hover {\n",
              "      background-color: #434B5C;\n",
              "      box-shadow: 0px 1px 3px 1px rgba(0, 0, 0, 0.15);\n",
              "      filter: drop-shadow(0px 1px 2px rgba(0, 0, 0, 0.3));\n",
              "      fill: #FFFFFF;\n",
              "    }\n",
              "  </style>\n",
              "\n",
              "      <script>\n",
              "        const buttonEl =\n",
              "          document.querySelector('#df-4afc3836-40a4-42a6-9572-4e08f9dfae4f button.colab-df-convert');\n",
              "        buttonEl.style.display =\n",
              "          google.colab.kernel.accessAllowed ? 'block' : 'none';\n",
              "\n",
              "        async function convertToInteractive(key) {\n",
              "          const element = document.querySelector('#df-4afc3836-40a4-42a6-9572-4e08f9dfae4f');\n",
              "          const dataTable =\n",
              "            await google.colab.kernel.invokeFunction('convertToInteractive',\n",
              "                                                     [key], {});\n",
              "          if (!dataTable) return;\n",
              "\n",
              "          const docLinkHtml = 'Like what you see? Visit the ' +\n",
              "            '<a target=\"_blank\" href=https://colab.research.google.com/notebooks/data_table.ipynb>data table notebook</a>'\n",
              "            + ' to learn more about interactive tables.';\n",
              "          element.innerHTML = '';\n",
              "          dataTable['output_type'] = 'display_data';\n",
              "          await google.colab.output.renderOutput(dataTable, element);\n",
              "          const docLink = document.createElement('div');\n",
              "          docLink.innerHTML = docLinkHtml;\n",
              "          element.appendChild(docLink);\n",
              "        }\n",
              "      </script>\n",
              "    </div>\n",
              "  </div>\n",
              "  "
            ]
          },
          "metadata": {},
          "execution_count": 27
        }
      ]
    },
    {
      "cell_type": "code",
      "source": [
        "# Applying text preprocessing to the entire dataset\n",
        "data['preprocessed_comment'] = data['comment_text'].apply(text_pre_processing)"
      ],
      "metadata": {
        "id": "XglgamdZUrNI"
      },
      "execution_count": 28,
      "outputs": []
    },
    {
      "cell_type": "code",
      "source": [
        "# Applying stemming and lemmatization to the entire dataset\n",
        "data['processed_stemming_comment'], data['processed_lemmatized_words'] = zip(*data['preprocessed_comment'].apply(stemming_and_lemmatizing))\n",
        "data.head()"
      ],
      "metadata": {
        "colab": {
          "base_uri": "https://localhost:8080/",
          "height": 250
        },
        "id": "UVr54Hhm_-u4",
        "outputId": "86b933b9-03a2-45be-b2f7-816f1d674ad4"
      },
      "execution_count": 29,
      "outputs": [
        {
          "output_type": "execute_result",
          "data": {
            "text/plain": [
              "                                         comment_text  toxic  severe_toxic  \\\n",
              "6        COCKSUCKER BEFORE YOU PISS AROUND ON MY WORK      1             1   \n",
              "12  Hey... what is it..\\n@ | talk .\\nWhat is it......      1             0   \n",
              "16  Bye! \\n\\nDon't look, come or think of comming ...      1             0   \n",
              "33  I was able to post the above list so quickly b...      0             0   \n",
              "42  You are gay or antisemmitian? \\n\\nArchangel WH...      1             0   \n",
              "\n",
              "    obscene  threat  insult  identity_hate  clean  \\\n",
              "6         1       0       1              0  False   \n",
              "12        0       0       0              0  False   \n",
              "16        0       0       0              0  False   \n",
              "33        0       0       0              0   True   \n",
              "42        1       0       1              1  False   \n",
              "\n",
              "                                 preprocessed_comment  \\\n",
              "6                         cocksucker piss around work   \n",
              "12  hey   talk  exclusive group wp talibanswho goo...   \n",
              "16            bye look come think comming back tosser   \n",
              "33  able post list quickly already text file hard ...   \n",
              "42  gay antisemmitian archangel white tiger meow g...   \n",
              "\n",
              "                           processed_stemming_comment  \\\n",
              "6                           cocksuck piss around work   \n",
              "12  hey talk exclus group wp talibanswho good dest...   \n",
              "16                bye look come think com back tosser   \n",
              "33  abl post list quickli alreadi text file hard d...   \n",
              "42  gay antisemmitian archangel white tiger meow g...   \n",
              "\n",
              "                           processed_lemmatized_words  \n",
              "6                         cocksucker piss around work  \n",
              "12  hey talk exclusive group wp talibanswho good d...  \n",
              "16            bye look come think comming back tosser  \n",
              "33  able post list quickly already text file hard ...  \n",
              "42  gay antisemmitian archangel white tiger meow g...  "
            ],
            "text/html": [
              "\n",
              "  <div id=\"df-162d7947-3dde-41d8-8af5-03d4a1cb7248\">\n",
              "    <div class=\"colab-df-container\">\n",
              "      <div>\n",
              "<style scoped>\n",
              "    .dataframe tbody tr th:only-of-type {\n",
              "        vertical-align: middle;\n",
              "    }\n",
              "\n",
              "    .dataframe tbody tr th {\n",
              "        vertical-align: top;\n",
              "    }\n",
              "\n",
              "    .dataframe thead th {\n",
              "        text-align: right;\n",
              "    }\n",
              "</style>\n",
              "<table border=\"1\" class=\"dataframe\">\n",
              "  <thead>\n",
              "    <tr style=\"text-align: right;\">\n",
              "      <th></th>\n",
              "      <th>comment_text</th>\n",
              "      <th>toxic</th>\n",
              "      <th>severe_toxic</th>\n",
              "      <th>obscene</th>\n",
              "      <th>threat</th>\n",
              "      <th>insult</th>\n",
              "      <th>identity_hate</th>\n",
              "      <th>clean</th>\n",
              "      <th>preprocessed_comment</th>\n",
              "      <th>processed_stemming_comment</th>\n",
              "      <th>processed_lemmatized_words</th>\n",
              "    </tr>\n",
              "  </thead>\n",
              "  <tbody>\n",
              "    <tr>\n",
              "      <th>6</th>\n",
              "      <td>COCKSUCKER BEFORE YOU PISS AROUND ON MY WORK</td>\n",
              "      <td>1</td>\n",
              "      <td>1</td>\n",
              "      <td>1</td>\n",
              "      <td>0</td>\n",
              "      <td>1</td>\n",
              "      <td>0</td>\n",
              "      <td>False</td>\n",
              "      <td>cocksucker piss around work</td>\n",
              "      <td>cocksuck piss around work</td>\n",
              "      <td>cocksucker piss around work</td>\n",
              "    </tr>\n",
              "    <tr>\n",
              "      <th>12</th>\n",
              "      <td>Hey... what is it..\\n@ | talk .\\nWhat is it......</td>\n",
              "      <td>1</td>\n",
              "      <td>0</td>\n",
              "      <td>0</td>\n",
              "      <td>0</td>\n",
              "      <td>0</td>\n",
              "      <td>0</td>\n",
              "      <td>False</td>\n",
              "      <td>hey   talk  exclusive group wp talibanswho goo...</td>\n",
              "      <td>hey talk exclus group wp talibanswho good dest...</td>\n",
              "      <td>hey talk exclusive group wp talibanswho good d...</td>\n",
              "    </tr>\n",
              "    <tr>\n",
              "      <th>16</th>\n",
              "      <td>Bye! \\n\\nDon't look, come or think of comming ...</td>\n",
              "      <td>1</td>\n",
              "      <td>0</td>\n",
              "      <td>0</td>\n",
              "      <td>0</td>\n",
              "      <td>0</td>\n",
              "      <td>0</td>\n",
              "      <td>False</td>\n",
              "      <td>bye look come think comming back tosser</td>\n",
              "      <td>bye look come think com back tosser</td>\n",
              "      <td>bye look come think comming back tosser</td>\n",
              "    </tr>\n",
              "    <tr>\n",
              "      <th>33</th>\n",
              "      <td>I was able to post the above list so quickly b...</td>\n",
              "      <td>0</td>\n",
              "      <td>0</td>\n",
              "      <td>0</td>\n",
              "      <td>0</td>\n",
              "      <td>0</td>\n",
              "      <td>0</td>\n",
              "      <td>True</td>\n",
              "      <td>able post list quickly already text file hard ...</td>\n",
              "      <td>abl post list quickli alreadi text file hard d...</td>\n",
              "      <td>able post list quickly already text file hard ...</td>\n",
              "    </tr>\n",
              "    <tr>\n",
              "      <th>42</th>\n",
              "      <td>You are gay or antisemmitian? \\n\\nArchangel WH...</td>\n",
              "      <td>1</td>\n",
              "      <td>0</td>\n",
              "      <td>1</td>\n",
              "      <td>0</td>\n",
              "      <td>1</td>\n",
              "      <td>1</td>\n",
              "      <td>False</td>\n",
              "      <td>gay antisemmitian archangel white tiger meow g...</td>\n",
              "      <td>gay antisemmitian archangel white tiger meow g...</td>\n",
              "      <td>gay antisemmitian archangel white tiger meow g...</td>\n",
              "    </tr>\n",
              "  </tbody>\n",
              "</table>\n",
              "</div>\n",
              "      <button class=\"colab-df-convert\" onclick=\"convertToInteractive('df-162d7947-3dde-41d8-8af5-03d4a1cb7248')\"\n",
              "              title=\"Convert this dataframe to an interactive table.\"\n",
              "              style=\"display:none;\">\n",
              "        \n",
              "  <svg xmlns=\"http://www.w3.org/2000/svg\" height=\"24px\"viewBox=\"0 0 24 24\"\n",
              "       width=\"24px\">\n",
              "    <path d=\"M0 0h24v24H0V0z\" fill=\"none\"/>\n",
              "    <path d=\"M18.56 5.44l.94 2.06.94-2.06 2.06-.94-2.06-.94-.94-2.06-.94 2.06-2.06.94zm-11 1L8.5 8.5l.94-2.06 2.06-.94-2.06-.94L8.5 2.5l-.94 2.06-2.06.94zm10 10l.94 2.06.94-2.06 2.06-.94-2.06-.94-.94-2.06-.94 2.06-2.06.94z\"/><path d=\"M17.41 7.96l-1.37-1.37c-.4-.4-.92-.59-1.43-.59-.52 0-1.04.2-1.43.59L10.3 9.45l-7.72 7.72c-.78.78-.78 2.05 0 2.83L4 21.41c.39.39.9.59 1.41.59.51 0 1.02-.2 1.41-.59l7.78-7.78 2.81-2.81c.8-.78.8-2.07 0-2.86zM5.41 20L4 18.59l7.72-7.72 1.47 1.35L5.41 20z\"/>\n",
              "  </svg>\n",
              "      </button>\n",
              "      \n",
              "  <style>\n",
              "    .colab-df-container {\n",
              "      display:flex;\n",
              "      flex-wrap:wrap;\n",
              "      gap: 12px;\n",
              "    }\n",
              "\n",
              "    .colab-df-convert {\n",
              "      background-color: #E8F0FE;\n",
              "      border: none;\n",
              "      border-radius: 50%;\n",
              "      cursor: pointer;\n",
              "      display: none;\n",
              "      fill: #1967D2;\n",
              "      height: 32px;\n",
              "      padding: 0 0 0 0;\n",
              "      width: 32px;\n",
              "    }\n",
              "\n",
              "    .colab-df-convert:hover {\n",
              "      background-color: #E2EBFA;\n",
              "      box-shadow: 0px 1px 2px rgba(60, 64, 67, 0.3), 0px 1px 3px 1px rgba(60, 64, 67, 0.15);\n",
              "      fill: #174EA6;\n",
              "    }\n",
              "\n",
              "    [theme=dark] .colab-df-convert {\n",
              "      background-color: #3B4455;\n",
              "      fill: #D2E3FC;\n",
              "    }\n",
              "\n",
              "    [theme=dark] .colab-df-convert:hover {\n",
              "      background-color: #434B5C;\n",
              "      box-shadow: 0px 1px 3px 1px rgba(0, 0, 0, 0.15);\n",
              "      filter: drop-shadow(0px 1px 2px rgba(0, 0, 0, 0.3));\n",
              "      fill: #FFFFFF;\n",
              "    }\n",
              "  </style>\n",
              "\n",
              "      <script>\n",
              "        const buttonEl =\n",
              "          document.querySelector('#df-162d7947-3dde-41d8-8af5-03d4a1cb7248 button.colab-df-convert');\n",
              "        buttonEl.style.display =\n",
              "          google.colab.kernel.accessAllowed ? 'block' : 'none';\n",
              "\n",
              "        async function convertToInteractive(key) {\n",
              "          const element = document.querySelector('#df-162d7947-3dde-41d8-8af5-03d4a1cb7248');\n",
              "          const dataTable =\n",
              "            await google.colab.kernel.invokeFunction('convertToInteractive',\n",
              "                                                     [key], {});\n",
              "          if (!dataTable) return;\n",
              "\n",
              "          const docLinkHtml = 'Like what you see? Visit the ' +\n",
              "            '<a target=\"_blank\" href=https://colab.research.google.com/notebooks/data_table.ipynb>data table notebook</a>'\n",
              "            + ' to learn more about interactive tables.';\n",
              "          element.innerHTML = '';\n",
              "          dataTable['output_type'] = 'display_data';\n",
              "          await google.colab.output.renderOutput(dataTable, element);\n",
              "          const docLink = document.createElement('div');\n",
              "          docLink.innerHTML = docLinkHtml;\n",
              "          element.appendChild(docLink);\n",
              "        }\n",
              "      </script>\n",
              "    </div>\n",
              "  </div>\n",
              "  "
            ]
          },
          "metadata": {},
          "execution_count": 29
        }
      ]
    },
    {
      "cell_type": "markdown",
      "source": [
        "The `processed_stemming_comment` refers to the text data that has undergone stemming using a stemming algorithm. Stemming reduces words to their base or root form by removing suffixes or prefixes. However, in this context, it is mentioned that the generated words after stemming are not relevant. It implies that the stemmed words may not accurately represent the original meaning or context of the text.\n",
        "\n",
        "Hence, to address this issue, I will use the `preprocessed_comment` and `processed_lemmatized_words` for further model training.\n",
        "\n",
        "The `preprocessed_comment` refers to the text data that has undergone preprocessing steps, such as converting to lowercase, removing punctuation, and removing stopwords. These preprocessing steps aim to clean the text and remove unnecessary noise, allowing the model to focus on the essential content of the comment.\n",
        "\n",
        "On the other hand, `processed_lemmatized_words` is the the text data that has undergone lemmatization. Lemmatization, unlike stemming, aims to reduce words to their base form based on their dictionary meaning. This approach considers the context and meaning of the word, resulting in more meaningful and relevant representations.\n",
        "\n",
        "By using `preprocessed_comment` and `processed_lemmatized_words` instead of `processed_stemming_comment`, it is expected that the model will have access to more relevant and meaningful words, which can potentially improve the performance and accuracy of the model during training and classification task."
      ],
      "metadata": {
        "id": "qSmCzGyU8nos"
      }
    },
    {
      "cell_type": "code",
      "source": [
        "# Looking at the shape of the data\n",
        "data.shape"
      ],
      "metadata": {
        "colab": {
          "base_uri": "https://localhost:8080/"
        },
        "id": "ajHMVOS8l3LF",
        "outputId": "f3ccece8-68f8-4d60-9905-f5bf790a5fed"
      },
      "execution_count": 30,
      "outputs": [
        {
          "output_type": "execute_result",
          "data": {
            "text/plain": [
              "(32450, 11)"
            ]
          },
          "metadata": {},
          "execution_count": 30
        }
      ]
    },
    {
      "cell_type": "code",
      "source": [
        "# path = '/content/drive/My Drive/Colab Notebooks/Sikka.ai/processed_train.csv'\n",
        "# with open(path, 'w', encoding = 'utf-8-sig') as f:\n",
        "#   data.to_csv(f)"
      ],
      "metadata": {
        "id": "liPE2paeS8LJ"
      },
      "execution_count": 31,
      "outputs": []
    },
    {
      "cell_type": "markdown",
      "source": [
        "### Feature Engineering"
      ],
      "metadata": {
        "id": "cMhsNWAAXYrA"
      }
    },
    {
      "cell_type": "markdown",
      "source": [
        "### Count Vectorizer :\n",
        "CountVectorizer converts a collection of text documents into a numerical representation that machine learning algorithms can understand. It represents each document as a vector of word counts, enabling further analysis and modeling tasks."
      ],
      "metadata": {
        "id": "z5uxSTj3XN6R"
      }
    },
    {
      "cell_type": "code",
      "source": [
        "# Extracting features using Count vectorization\n",
        "vectorizer = CountVectorizer()\n",
        "vectorizer_nl = CountVectorizer()\n",
        "\n",
        "X = vectorizer.fit_transform(data['processed_lemmatized_words'])\n",
        "X_noLemma = vectorizer_nl.fit_transform(data['preprocessed_comment'])\n",
        "\n",
        "y = data[label_cols].values"
      ],
      "metadata": {
        "id": "lR6Krz9puQkV"
      },
      "execution_count": 41,
      "outputs": []
    },
    {
      "cell_type": "code",
      "source": [
        "# Splitting the data into train and test sets using X\n",
        "X_train, X_test, y_train, y_test = train_test_split(X, y, test_size=0.25, random_state=42)\n",
        "\n",
        "# Splitting the data into train and test sets using X_notLemma\n",
        "X_train_nl, X_test_nl, y_train_nl, y_test_nl = train_test_split(X_noLemma, y, test_size=0.2)"
      ],
      "metadata": {
        "id": "VPjkwiYvuZGz"
      },
      "execution_count": 42,
      "outputs": []
    },
    {
      "cell_type": "markdown",
      "source": [
        "### Model Training"
      ],
      "metadata": {
        "id": "HvPryf_KXre8"
      }
    },
    {
      "cell_type": "code",
      "source": [
        "# Using GridSearchCV for the hyperparameters of the Random Forest Classifier (n_estimators, max_depth, min_samples_split, min_samples_leaf).\n",
        "# Here, we are creating an instance of the Random Forest Classifier and using GridSearchCV to perform the grid search with 5-fold cross-validation\n",
        "\n",
        "# Defining the parameter grid\n",
        "param_grid = {\n",
        "    'n_estimators': [30, 50, 100],\n",
        "    'max_depth': [3, 5, 10],\n",
        "    'min_samples_split': [2, 5, 10],\n",
        "    'min_samples_leaf': [1, 2, 4]\n",
        "}\n",
        "\n",
        "# Creating the Random Forest Classifier\n",
        "rf_classifier = RandomForestClassifier()\n",
        "\n",
        "# Perform grid search with cross-validation\n",
        "grid_search = GridSearchCV(estimator=rf_classifier, param_grid=param_grid, cv=5, n_jobs=-1)\n",
        "grid_search.fit(X_train, y_train)\n",
        "\n",
        "# Print the best parameters and best score\n",
        "print(\"Best Parameters:\", grid_search.best_params_)\n",
        "print(\"Best Score:\", grid_search.best_score_)\n"
      ],
      "metadata": {
        "colab": {
          "base_uri": "https://localhost:8080/"
        },
        "id": "d9EhZ-u4uqDV",
        "outputId": "a238c850-1b7f-42a1-826f-b11297580a43"
      },
      "execution_count": 43,
      "outputs": [
        {
          "output_type": "stream",
          "name": "stdout",
          "text": [
            "Best Parameters: {'max_depth': 10, 'min_samples_leaf': 1, 'min_samples_split': 10, 'n_estimators': 30}\n",
            "Best Score: 0.5337138973101931\n"
          ]
        }
      ]
    },
    {
      "cell_type": "code",
      "source": [
        "# Model training using X_noLemma data\n",
        "\n",
        "# Creating the Random Forest Classifier\n",
        "rf_classifier_nl = RandomForestClassifier()\n",
        "\n",
        "# Perform grid search with cross-validation\n",
        "grid_search_nl = GridSearchCV(estimator=rf_classifier_nl, param_grid=param_grid, cv=5, n_jobs=-1)\n",
        "grid_search_nl.fit(X_train_nl, y_train_nl)\n",
        "\n",
        "# Print the best parameters and best score\n",
        "print(\"Best Parameters:\", grid_search_nl.best_params_)\n",
        "print(\"Best Score:\", grid_search_nl.best_score_)"
      ],
      "metadata": {
        "colab": {
          "base_uri": "https://localhost:8080/"
        },
        "id": "h0Ir4NUj-BNn",
        "outputId": "baf7e250-592c-49bc-9601-233a958eb03f"
      },
      "execution_count": 44,
      "outputs": [
        {
          "output_type": "stream",
          "name": "stdout",
          "text": [
            "Best Parameters: {'max_depth': 10, 'min_samples_leaf': 1, 'min_samples_split': 5, 'n_estimators': 30}\n",
            "Best Score: 0.5285439137134051\n"
          ]
        }
      ]
    },
    {
      "cell_type": "code",
      "source": [
        "# Training a Random Forest Classifier\n",
        "\n",
        "model = RandomForestClassifier(n_estimators=100, n_jobs=-1)\n",
        "model.fit(X_train, y_train)"
      ],
      "metadata": {
        "colab": {
          "base_uri": "https://localhost:8080/",
          "height": 74
        },
        "id": "ey6W3qiJGP8p",
        "outputId": "64b2106a-89e6-4ac3-c839-5cf8b126786d"
      },
      "execution_count": 45,
      "outputs": [
        {
          "output_type": "execute_result",
          "data": {
            "text/plain": [
              "RandomForestClassifier(n_jobs=-1)"
            ],
            "text/html": [
              "<style>#sk-container-id-3 {color: black;background-color: white;}#sk-container-id-3 pre{padding: 0;}#sk-container-id-3 div.sk-toggleable {background-color: white;}#sk-container-id-3 label.sk-toggleable__label {cursor: pointer;display: block;width: 100%;margin-bottom: 0;padding: 0.3em;box-sizing: border-box;text-align: center;}#sk-container-id-3 label.sk-toggleable__label-arrow:before {content: \"▸\";float: left;margin-right: 0.25em;color: #696969;}#sk-container-id-3 label.sk-toggleable__label-arrow:hover:before {color: black;}#sk-container-id-3 div.sk-estimator:hover label.sk-toggleable__label-arrow:before {color: black;}#sk-container-id-3 div.sk-toggleable__content {max-height: 0;max-width: 0;overflow: hidden;text-align: left;background-color: #f0f8ff;}#sk-container-id-3 div.sk-toggleable__content pre {margin: 0.2em;color: black;border-radius: 0.25em;background-color: #f0f8ff;}#sk-container-id-3 input.sk-toggleable__control:checked~div.sk-toggleable__content {max-height: 200px;max-width: 100%;overflow: auto;}#sk-container-id-3 input.sk-toggleable__control:checked~label.sk-toggleable__label-arrow:before {content: \"▾\";}#sk-container-id-3 div.sk-estimator input.sk-toggleable__control:checked~label.sk-toggleable__label {background-color: #d4ebff;}#sk-container-id-3 div.sk-label input.sk-toggleable__control:checked~label.sk-toggleable__label {background-color: #d4ebff;}#sk-container-id-3 input.sk-hidden--visually {border: 0;clip: rect(1px 1px 1px 1px);clip: rect(1px, 1px, 1px, 1px);height: 1px;margin: -1px;overflow: hidden;padding: 0;position: absolute;width: 1px;}#sk-container-id-3 div.sk-estimator {font-family: monospace;background-color: #f0f8ff;border: 1px dotted black;border-radius: 0.25em;box-sizing: border-box;margin-bottom: 0.5em;}#sk-container-id-3 div.sk-estimator:hover {background-color: #d4ebff;}#sk-container-id-3 div.sk-parallel-item::after {content: \"\";width: 100%;border-bottom: 1px solid gray;flex-grow: 1;}#sk-container-id-3 div.sk-label:hover label.sk-toggleable__label {background-color: #d4ebff;}#sk-container-id-3 div.sk-serial::before {content: \"\";position: absolute;border-left: 1px solid gray;box-sizing: border-box;top: 0;bottom: 0;left: 50%;z-index: 0;}#sk-container-id-3 div.sk-serial {display: flex;flex-direction: column;align-items: center;background-color: white;padding-right: 0.2em;padding-left: 0.2em;position: relative;}#sk-container-id-3 div.sk-item {position: relative;z-index: 1;}#sk-container-id-3 div.sk-parallel {display: flex;align-items: stretch;justify-content: center;background-color: white;position: relative;}#sk-container-id-3 div.sk-item::before, #sk-container-id-3 div.sk-parallel-item::before {content: \"\";position: absolute;border-left: 1px solid gray;box-sizing: border-box;top: 0;bottom: 0;left: 50%;z-index: -1;}#sk-container-id-3 div.sk-parallel-item {display: flex;flex-direction: column;z-index: 1;position: relative;background-color: white;}#sk-container-id-3 div.sk-parallel-item:first-child::after {align-self: flex-end;width: 50%;}#sk-container-id-3 div.sk-parallel-item:last-child::after {align-self: flex-start;width: 50%;}#sk-container-id-3 div.sk-parallel-item:only-child::after {width: 0;}#sk-container-id-3 div.sk-dashed-wrapped {border: 1px dashed gray;margin: 0 0.4em 0.5em 0.4em;box-sizing: border-box;padding-bottom: 0.4em;background-color: white;}#sk-container-id-3 div.sk-label label {font-family: monospace;font-weight: bold;display: inline-block;line-height: 1.2em;}#sk-container-id-3 div.sk-label-container {text-align: center;}#sk-container-id-3 div.sk-container {/* jupyter's `normalize.less` sets `[hidden] { display: none; }` but bootstrap.min.css set `[hidden] { display: none !important; }` so we also need the `!important` here to be able to override the default hidden behavior on the sphinx rendered scikit-learn.org. See: https://github.com/scikit-learn/scikit-learn/issues/21755 */display: inline-block !important;position: relative;}#sk-container-id-3 div.sk-text-repr-fallback {display: none;}</style><div id=\"sk-container-id-3\" class=\"sk-top-container\"><div class=\"sk-text-repr-fallback\"><pre>RandomForestClassifier(n_jobs=-1)</pre><b>In a Jupyter environment, please rerun this cell to show the HTML representation or trust the notebook. <br />On GitHub, the HTML representation is unable to render, please try loading this page with nbviewer.org.</b></div><div class=\"sk-container\" hidden><div class=\"sk-item\"><div class=\"sk-estimator sk-toggleable\"><input class=\"sk-toggleable__control sk-hidden--visually\" id=\"sk-estimator-id-3\" type=\"checkbox\" checked><label for=\"sk-estimator-id-3\" class=\"sk-toggleable__label sk-toggleable__label-arrow\">RandomForestClassifier</label><div class=\"sk-toggleable__content\"><pre>RandomForestClassifier(n_jobs=-1)</pre></div></div></div></div></div>"
            ]
          },
          "metadata": {},
          "execution_count": 45
        }
      ]
    },
    {
      "cell_type": "code",
      "source": [
        "# Training a Random Forest Classifier using n_estimators as 100\n",
        "\n",
        "model_nl = RandomForestClassifier(n_estimators=100, n_jobs=-1)\n",
        "model_nl.fit(X_train_nl, y_train_nl)"
      ],
      "metadata": {
        "colab": {
          "base_uri": "https://localhost:8080/",
          "height": 74
        },
        "id": "DQw498Vi-V01",
        "outputId": "d29c2829-9a8f-4a20-bec9-21da6a0a2fa8"
      },
      "execution_count": 46,
      "outputs": [
        {
          "output_type": "execute_result",
          "data": {
            "text/plain": [
              "RandomForestClassifier(n_jobs=-1)"
            ],
            "text/html": [
              "<style>#sk-container-id-4 {color: black;background-color: white;}#sk-container-id-4 pre{padding: 0;}#sk-container-id-4 div.sk-toggleable {background-color: white;}#sk-container-id-4 label.sk-toggleable__label {cursor: pointer;display: block;width: 100%;margin-bottom: 0;padding: 0.3em;box-sizing: border-box;text-align: center;}#sk-container-id-4 label.sk-toggleable__label-arrow:before {content: \"▸\";float: left;margin-right: 0.25em;color: #696969;}#sk-container-id-4 label.sk-toggleable__label-arrow:hover:before {color: black;}#sk-container-id-4 div.sk-estimator:hover label.sk-toggleable__label-arrow:before {color: black;}#sk-container-id-4 div.sk-toggleable__content {max-height: 0;max-width: 0;overflow: hidden;text-align: left;background-color: #f0f8ff;}#sk-container-id-4 div.sk-toggleable__content pre {margin: 0.2em;color: black;border-radius: 0.25em;background-color: #f0f8ff;}#sk-container-id-4 input.sk-toggleable__control:checked~div.sk-toggleable__content {max-height: 200px;max-width: 100%;overflow: auto;}#sk-container-id-4 input.sk-toggleable__control:checked~label.sk-toggleable__label-arrow:before {content: \"▾\";}#sk-container-id-4 div.sk-estimator input.sk-toggleable__control:checked~label.sk-toggleable__label {background-color: #d4ebff;}#sk-container-id-4 div.sk-label input.sk-toggleable__control:checked~label.sk-toggleable__label {background-color: #d4ebff;}#sk-container-id-4 input.sk-hidden--visually {border: 0;clip: rect(1px 1px 1px 1px);clip: rect(1px, 1px, 1px, 1px);height: 1px;margin: -1px;overflow: hidden;padding: 0;position: absolute;width: 1px;}#sk-container-id-4 div.sk-estimator {font-family: monospace;background-color: #f0f8ff;border: 1px dotted black;border-radius: 0.25em;box-sizing: border-box;margin-bottom: 0.5em;}#sk-container-id-4 div.sk-estimator:hover {background-color: #d4ebff;}#sk-container-id-4 div.sk-parallel-item::after {content: \"\";width: 100%;border-bottom: 1px solid gray;flex-grow: 1;}#sk-container-id-4 div.sk-label:hover label.sk-toggleable__label {background-color: #d4ebff;}#sk-container-id-4 div.sk-serial::before {content: \"\";position: absolute;border-left: 1px solid gray;box-sizing: border-box;top: 0;bottom: 0;left: 50%;z-index: 0;}#sk-container-id-4 div.sk-serial {display: flex;flex-direction: column;align-items: center;background-color: white;padding-right: 0.2em;padding-left: 0.2em;position: relative;}#sk-container-id-4 div.sk-item {position: relative;z-index: 1;}#sk-container-id-4 div.sk-parallel {display: flex;align-items: stretch;justify-content: center;background-color: white;position: relative;}#sk-container-id-4 div.sk-item::before, #sk-container-id-4 div.sk-parallel-item::before {content: \"\";position: absolute;border-left: 1px solid gray;box-sizing: border-box;top: 0;bottom: 0;left: 50%;z-index: -1;}#sk-container-id-4 div.sk-parallel-item {display: flex;flex-direction: column;z-index: 1;position: relative;background-color: white;}#sk-container-id-4 div.sk-parallel-item:first-child::after {align-self: flex-end;width: 50%;}#sk-container-id-4 div.sk-parallel-item:last-child::after {align-self: flex-start;width: 50%;}#sk-container-id-4 div.sk-parallel-item:only-child::after {width: 0;}#sk-container-id-4 div.sk-dashed-wrapped {border: 1px dashed gray;margin: 0 0.4em 0.5em 0.4em;box-sizing: border-box;padding-bottom: 0.4em;background-color: white;}#sk-container-id-4 div.sk-label label {font-family: monospace;font-weight: bold;display: inline-block;line-height: 1.2em;}#sk-container-id-4 div.sk-label-container {text-align: center;}#sk-container-id-4 div.sk-container {/* jupyter's `normalize.less` sets `[hidden] { display: none; }` but bootstrap.min.css set `[hidden] { display: none !important; }` so we also need the `!important` here to be able to override the default hidden behavior on the sphinx rendered scikit-learn.org. See: https://github.com/scikit-learn/scikit-learn/issues/21755 */display: inline-block !important;position: relative;}#sk-container-id-4 div.sk-text-repr-fallback {display: none;}</style><div id=\"sk-container-id-4\" class=\"sk-top-container\"><div class=\"sk-text-repr-fallback\"><pre>RandomForestClassifier(n_jobs=-1)</pre><b>In a Jupyter environment, please rerun this cell to show the HTML representation or trust the notebook. <br />On GitHub, the HTML representation is unable to render, please try loading this page with nbviewer.org.</b></div><div class=\"sk-container\" hidden><div class=\"sk-item\"><div class=\"sk-estimator sk-toggleable\"><input class=\"sk-toggleable__control sk-hidden--visually\" id=\"sk-estimator-id-4\" type=\"checkbox\" checked><label for=\"sk-estimator-id-4\" class=\"sk-toggleable__label sk-toggleable__label-arrow\">RandomForestClassifier</label><div class=\"sk-toggleable__content\"><pre>RandomForestClassifier(n_jobs=-1)</pre></div></div></div></div></div>"
            ]
          },
          "metadata": {},
          "execution_count": 46
        }
      ]
    },
    {
      "cell_type": "markdown",
      "source": [
        "### Model Evaluation"
      ],
      "metadata": {
        "id": "TkYNW0SsXwLW"
      }
    },
    {
      "cell_type": "code",
      "source": [
        "# Evaluating the model and calculating the Accuracy score\n",
        "y_pred = model.predict(X_test)\n",
        "\n",
        "# Accuracy\n",
        "accuracy = accuracy_score(y_test, y_pred)\n",
        "print('Accuracy:', accuracy)"
      ],
      "metadata": {
        "colab": {
          "base_uri": "https://localhost:8080/"
        },
        "id": "GrAlnjH_vOFW",
        "outputId": "1ecbd85d-7241-4f77-fcd5-02aba00d7414"
      },
      "execution_count": 47,
      "outputs": [
        {
          "output_type": "stream",
          "name": "stdout",
          "text": [
            "Accuracy: 0.6425489954394182\n"
          ]
        }
      ]
    },
    {
      "cell_type": "code",
      "source": [
        "# Evaluating the model with X_noLemma data and calculating the Accuracy score\n",
        "y_pred_nl = model_nl.predict(X_test_nl)\n",
        "\n",
        "# Accuracy\n",
        "accuracy_nl = accuracy_score(y_test_nl, y_pred_nl)\n",
        "print('Accuracy:', accuracy_nl)"
      ],
      "metadata": {
        "colab": {
          "base_uri": "https://localhost:8080/"
        },
        "id": "XnYWom5w-i4g",
        "outputId": "b6e3007f-ac32-4871-849b-da8c7ff8a7a0"
      },
      "execution_count": 48,
      "outputs": [
        {
          "output_type": "stream",
          "name": "stdout",
          "text": [
            "Accuracy: 0.628351309707242\n"
          ]
        }
      ]
    },
    {
      "cell_type": "markdown",
      "source": [
        "Since, the model with Lemmatized data = \"model\" performed almost same in terms of accuracy, I'll be using it for further evaluation"
      ],
      "metadata": {
        "id": "bWoMn3xgGixH"
      }
    },
    {
      "cell_type": "code",
      "source": [
        "# Making predictions on a new text\n",
        "text = 'I will kill you'\n",
        "input_text = vectorizer.transform([text])\n",
        "result = model.predict(input_text)\n",
        "print(result)\n",
        "\n",
        "predicted_labels = result[0]\n",
        "class_names = ['toxic', 'severe_toxic', 'obscene', 'threat', 'insult', 'identity_hate']\n",
        "# Display the predicted labels for the toxic categories\n",
        "for i in range(len(class_names)):\n",
        "    if predicted_labels[i] == 1:\n",
        "        print('The input text is: ', class_names[i])"
      ],
      "metadata": {
        "colab": {
          "base_uri": "https://localhost:8080/"
        },
        "id": "h898XV30Xt9U",
        "outputId": "1ccb5092-df77-450c-e487-8e5e0714114c"
      },
      "execution_count": 49,
      "outputs": [
        {
          "output_type": "stream",
          "name": "stdout",
          "text": [
            "[[1 0 0 1 0 0]]\n",
            "The input text is:  toxic\n",
            "The input text is:  threat\n"
          ]
        }
      ]
    },
    {
      "cell_type": "code",
      "source": [
        "# Calculating the multilabel confusion matrix\n",
        "cm = multilabel_confusion_matrix(y_test, y_pred)"
      ],
      "metadata": {
        "id": "isxc5jeD7voA"
      },
      "execution_count": 50,
      "outputs": []
    },
    {
      "cell_type": "code",
      "source": [
        "# Define class labels\n",
        "class_labels = ['toxic', 'severe_toxic', 'obscene', 'threat', 'insult', 'identity_hate']\n",
        "\n",
        "# Define custom color map\n",
        "cmap = sns.color_palette(\"coolwarm\", 4)  # Adjust the number of colors as needed\n",
        "\n",
        "# Plotting the multilabel confusion matrix\n",
        "plt.figure(figsize=(10, 8))\n",
        "for i in range(len(class_labels)):\n",
        "    plt.subplot(2, 3, i + 1)\n",
        "    sns.heatmap(cm[i], annot=True, fmt='d', cmap=cmap, cbar=False)\n",
        "    plt.title('Confusion Matrix - ' + class_labels[i])\n",
        "    plt.xlabel('Predicted')\n",
        "    plt.ylabel('True')\n",
        "plt.tight_layout()\n",
        "plt.show()"
      ],
      "metadata": {
        "colab": {
          "base_uri": "https://localhost:8080/",
          "height": 807
        },
        "id": "FGlea57k8AJE",
        "outputId": "76f6780b-88a0-4217-fbb6-b6e0aac8b7fb"
      },
      "execution_count": 51,
      "outputs": [
        {
          "output_type": "display_data",
          "data": {
            "text/plain": [
              "<Figure size 1000x800 with 6 Axes>"
            ],
            "image/png": "[encoded data removed]"
          },
          "metadata": {}
        }
      ]
    },
    {
      "cell_type": "markdown",
      "source": [
        "This above diagram is useful for visualizing the multilabel confusion matrix, which provides insights into the performance of a multilabel classification model by showing the true positives, true negatives, false positives, and false negatives for each toxic category we have in our dataset."
      ],
      "metadata": {
        "id": "kPbCF1g28KNC"
      }
    },
    {
      "cell_type": "code",
      "source": [
        "# Calculating the F1 score\n",
        "f1score = f1_score(y_test, y_pred, average='micro')\n",
        "print('F1 Score:', f1score)"
      ],
      "metadata": {
        "colab": {
          "base_uri": "https://localhost:8080/"
        },
        "id": "eW2DOLhSxKhC",
        "outputId": "f16a53cb-09fa-48e6-fb68-364488728c2f"
      },
      "execution_count": 52,
      "outputs": [
        {
          "output_type": "stream",
          "name": "stdout",
          "text": [
            "F1 Score: 0.7285675893576996\n"
          ]
        }
      ]
    },
    {
      "cell_type": "code",
      "source": [
        "# ROC-AUC Curve\n",
        "\n",
        "# Converting NumPy arrays to pandas DataFrames\n",
        "y_test_df = pd.DataFrame(y_test, columns=['toxic', 'severe_toxic', 'obscene', 'threat', 'insult', 'identity_hate'])\n",
        "y_pred_df = pd.DataFrame(y_pred, columns=['toxic', 'severe_toxic', 'obscene', 'threat', 'insult', 'identity_hate'])\n",
        "\n",
        "# ROC-AUC Curve\n",
        "n_classes = 6\n",
        "fpr = dict()\n",
        "tpr = dict()\n",
        "roc_auc = dict()\n",
        "for i in range(n_classes):\n",
        "    fpr[i], tpr[i], _ = roc_curve(y_test_df.iloc[:, i], y_pred_df.iloc[:, i])\n",
        "    roc_auc[i] = auc(fpr[i], tpr[i])\n",
        "\n",
        "# Computing micro-average ROC curve and ROC-AUC score\n",
        "fpr[\"micro\"], tpr[\"micro\"], _ = roc_curve(y_test_df.values.ravel(), y_pred_df.values.ravel())\n",
        "roc_auc[\"micro\"] = auc(fpr[\"micro\"], tpr[\"micro\"])\n",
        "\n",
        "# Define class names\n",
        "class_names = ['toxic', 'severe_toxic', 'obscene', 'threat', 'insult', 'identity_hate']\n",
        "\n",
        "# Plotting the ROC curve for each class\n",
        "plt.figure()\n",
        "lw = 2\n",
        "colors = ['red', 'blue', 'green', 'orange', 'purple', 'brown']\n",
        "for i, color in zip(range(n_classes), colors):\n",
        "    #plt.plot(fpr[i], tpr[i], color=color, lw=lw, label='ROC curve - Class %d (area = %0.2f)' % (i, roc_auc[i]))\n",
        "    plt.plot(fpr[i], tpr[i], color=color, lw=lw, label='ROC curve - %s (area = %0.2f)' % (class_names[i], roc_auc[i]))\n",
        "\n",
        "plt.plot(fpr[\"micro\"], tpr[\"micro\"], color='black', lw=lw, linestyle='--', label='Micro-average ROC curve (area = %0.2f)' % roc_auc[\"micro\"])\n",
        "plt.plot([0, 1], [0, 1], color='navy', lw=lw, linestyle='--')\n",
        "plt.xlim([0.0, 1.0])\n",
        "plt.ylim([0.0, 1.05])\n",
        "plt.xlabel('False Positive Rate')\n",
        "plt.ylabel('True Positive Rate')\n",
        "plt.title('Receiver Operating Characteristic (ROC)')\n",
        "plt.legend(loc=\"lower right\")\n",
        "plt.show()"
      ],
      "metadata": {
        "colab": {
          "base_uri": "https://localhost:8080/",
          "height": 472
        },
        "id": "xOSc5yYs8e2l",
        "outputId": "da44a964-64f3-4814-ffe4-a68449953229"
      },
      "execution_count": 53,
      "outputs": [
        {
          "output_type": "display_data",
          "data": {
            "text/plain": [
              "<Figure size 640x480 with 1 Axes>"
            ],
            "image/png": "[encoded data removed]"
          },
          "metadata": {}
        }
      ]
    },
    {
      "cell_type": "markdown",
      "source": [
        "Class \"toxic\" Area = 0.86: This means that for the ROC curve of \"toxic\" category, the area under the curve is 0.86. This indicates that the model's performance in distinguishing \"toxic\" instances from other category instances is relatively good. An AUC of 0.86 suggests a high true positive rate and a relatively low false positive rate for \"toxic\" category.\n",
        "\n",
        "Class 2 Area = 0.53: For the ROC curve of \"severe_toxic\", the area under the curve is 0.53. This indicates that the model's ability to differentiate \"severe_toxic\" instances from \"toxic\" instances is relatively poor. An AUC of 0.53 suggests that the model's predictions for \"severe_toxic\" are not much better than random guessing.\n",
        "\n",
        "Micro-Average ROC Curve Area = 0.80: The micro-average ROC curve area represents the overall performance of the model across all 6 toxic categories. In this case, the micro-average AUC is 0.80. It combines the performance of all categories, considering the total true positives, false positives, and false negatives across all classes. An AUC of 0.80 suggests that the model performs reasonably well in classifying instances overall.\n",
        "\n",
        "A higher AUC indicates better classification performance, with 1 being the best and 0.5 indicating a random classifier. Therefore, an AUC of 0.86 for \"toxic\" and 0.80 for the micro-average suggests that the model has good discriminatory power for \"toxic\" but may struggle with \"severe_toxic\"."
      ],
      "metadata": {
        "id": "5Pix9bRMZ5PF"
      }
    },
    {
      "cell_type": "code",
      "source": [
        "# Print the classification report\n",
        "target_names = class_names = ['toxic', 'severe_toxic', 'obscene', 'threat', 'insult', 'identity_hate']\n",
        "print(classification_report(y_test, y_pred, target_names=target_names, zero_division=0))"
      ],
      "metadata": {
        "colab": {
          "base_uri": "https://localhost:8080/"
        },
        "id": "PxFzN7pnP4dF",
        "outputId": "2b8a88bd-553f-491c-ba81-82bdfa3c9075"
      },
      "execution_count": 54,
      "outputs": [
        {
          "output_type": "stream",
          "name": "stdout",
          "text": [
            "               precision    recall  f1-score   support\n",
            "\n",
            "        toxic       0.91      0.78      0.84      3759\n",
            " severe_toxic       0.40      0.10      0.16       388\n",
            "      obscene       0.90      0.66      0.76      2096\n",
            "       threat       0.44      0.14      0.21       110\n",
            "       insult       0.81      0.52      0.63      1981\n",
            "identity_hate       0.67      0.09      0.16       338\n",
            "\n",
            "    micro avg       0.87      0.63      0.73      8672\n",
            "    macro avg       0.69      0.38      0.46      8672\n",
            " weighted avg       0.85      0.63      0.71      8672\n",
            "  samples avg       0.34      0.29      0.30      8672\n",
            "\n"
          ]
        }
      ]
    },
    {
      "cell_type": "markdown",
      "source": [
        "The above classification report shows the performance of a machine learning model on a classification task - to classify comments as one of six classes: toxic, severe_toxic, obscene, threat, insult, or identity_hate.\n",
        "\n",
        "The report shows the following metrics for each class:<br>\n",
        "\n",
        "Precision: The percentage of predictions that were correct for that class.\n",
        "Recall: The percentage of actual instances of that class that were correctly predicted.<br>\n",
        "F1-score: A weighted harmonic mean of precision and recall.<br>\n",
        "Support: The number of instances of that class in the dataset.<br>\n",
        "The micro average metrics are calculated by considering all classes together. The macro average metrics are calculated by considering each class separately and then averaging the results. The weighted average metrics are calculated by considering each class separately and then weighting the results according to the support of each class.\n",
        "\n",
        "The samples average metrics are calculated by considering each prediction separately and then averaging the results.\n",
        "\n",
        "In this case, the model has a high micro average precision and recall, which means that it is generally good at predicting whether a comment is toxic or not. <br>However, the macro average precision and recall are lower, which means that the model is not as good at predicting each class individually. This is likely because some classes, such as severe_toxic, are much rarer than others, such as toxic.\n",
        "\n",
        "The weighted average precision and recall are higher than the macro average precision and recall, which means that the model is better at predicting the more common classes.\n",
        "\n",
        "The samples average precision and recall are much lower than the other metrics, which means that the model is not very good at predicting individual comments. This is likely because the model is not very good at handling the noise in the data.\n",
        "\n",
        "Overall, the model has a good overall performance, but it could be improved by better handling the noise in the data and by improving its ability to predict the rarer classes."
      ],
      "metadata": {
        "id": "7A9nLArSYKgz"
      }
    }
  ]
}